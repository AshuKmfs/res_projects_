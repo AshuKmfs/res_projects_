{
 "cells": [
  {
   "cell_type": "code",
   "execution_count": 1,
   "id": "fba2b817",
   "metadata": {},
   "outputs": [
    {
     "name": "stdout",
     "output_type": "stream",
     "text": [
      "[*********************100%***********************]  54 of 54 completed\n",
      "Mean Returns:\n",
      "AAPL     0.386829\n",
      "ADBE     0.142025\n",
      "ADSK     0.190741\n",
      "AMAT     0.427688\n",
      "AMGN     0.126435\n",
      "AMZN     0.107624\n",
      "ATVI     0.180781\n",
      "BBBY     0.131714\n",
      "BIIB     0.128865\n",
      "CDNS     0.451411\n",
      "CHKP     0.122664\n",
      "CHRW     0.192729\n",
      "CMCSA    0.104999\n",
      "COST     0.233318\n",
      "CSCO     0.135903\n",
      "CTAS     0.393547\n",
      "CTSH     0.170324\n",
      "DISH    -0.164306\n",
      "EBAY     0.209879\n",
      "EXPD     0.221055\n",
      "EXPE     0.318444\n",
      "FAST     0.248668\n",
      "FISV     0.139528\n",
      "FLEX     0.398318\n",
      "GILD     0.130833\n",
      "GOOG     0.266611\n",
      "GRMN     0.161743\n",
      "INTC    -0.084944\n",
      "INTU     0.311130\n",
      "JNPR     0.224943\n",
      "KLAC     0.451668\n",
      "LAMR     0.387579\n",
      "LBTYA    0.098457\n",
      "LRCX     0.398024\n",
      "MCHP     0.394890\n",
      "MNST     0.263782\n",
      "MRVL     0.326315\n",
      "MSFT     0.252700\n",
      "NTAP     0.243075\n",
      "NVDA     0.623902\n",
      "ORCL     0.274545\n",
      "PAYX     0.256233\n",
      "PCAR     0.264510\n",
      "PDCO     0.321020\n",
      "PTEN     0.922104\n",
      "QCOM     0.291699\n",
      "ROST     0.178517\n",
      "SBUX     0.243707\n",
      "SIRI     0.000906\n",
      "TEVA     0.096618\n",
      "URBN     0.385661\n",
      "VRSN     0.103219\n",
      "WYNN     0.400766\n",
      "XRAY     0.108950\n",
      "dtype: float64\n",
      "Standard Deviation of Returns:\n",
      "AAPL     0.321559\n",
      "ADBE     0.373416\n",
      "ADSK     0.407427\n",
      "AMAT     0.456520\n",
      "AMGN     0.232383\n",
      "AMZN     0.383930\n",
      "ATVI     0.303201\n",
      "BBBY     1.532766\n",
      "BIIB     0.534654\n",
      "CDNS     0.359215\n",
      "CHKP     0.250618\n",
      "CHRW     0.288822\n",
      "CMCSA    0.272654\n",
      "COST     0.244213\n",
      "CSCO     0.261945\n",
      "CTAS     0.295985\n",
      "CTSH     0.306013\n",
      "DISH     0.516809\n",
      "EBAY     0.344469\n",
      "EXPD     0.262239\n",
      "EXPE     0.503787\n",
      "FAST     0.258072\n",
      "FISV     0.302687\n",
      "FLEX     0.408671\n",
      "GILD     0.246749\n",
      "GOOG     0.324464\n",
      "GRMN     0.271870\n",
      "INTC     0.361906\n",
      "INTU     0.379046\n",
      "JNPR     0.282034\n",
      "KLAC     0.444194\n",
      "LAMR     0.381459\n",
      "LBTYA    0.320585\n",
      "LRCX     0.481566\n",
      "MCHP     0.424884\n",
      "MNST     0.258186\n",
      "MRVL     0.514936\n",
      "MSFT     0.296532\n",
      "NTAP     0.347296\n",
      "NVDA     0.523152\n",
      "ORCL     0.276131\n",
      "PAYX     0.261286\n",
      "PCAR     0.258574\n",
      "PDCO     0.384241\n",
      "PTEN     0.770088\n",
      "QCOM     0.410866\n",
      "ROST     0.397409\n",
      "SBUX     0.297385\n",
      "SIRI     0.293532\n",
      "TEVA     0.458851\n",
      "URBN     0.563019\n",
      "VRSN     0.270353\n",
      "WYNN     0.562277\n",
      "XRAY     0.360273\n",
      "dtype: float64\n",
      "Covariance Matrix of Returns:\n",
      "           AAPL      ADBE      ADSK      AMAT      AMGN      AMZN      ATVI  \\\n",
      "AAPL   0.103400  0.079733  0.078774  0.084049  0.022836  0.080654  0.028937   \n",
      "ADBE   0.079733  0.139440  0.107357  0.097538  0.023303  0.093224  0.035195   \n",
      "ADSK   0.078774  0.107357  0.165997  0.114067  0.021890  0.094993  0.035263   \n",
      "AMAT   0.084049  0.097538  0.114067  0.208411  0.026405  0.089997  0.026645   \n",
      "AMGN   0.022836  0.023303  0.021890  0.026405  0.054002  0.020710  0.015679   \n",
      "AMZN   0.080654  0.093224  0.094993  0.089997  0.020710  0.147402  0.033758   \n",
      "ATVI   0.028937  0.035195  0.035263  0.026645  0.015679  0.033758  0.091931   \n",
      "BBBY   0.069679  0.072034  0.084230  0.095270  0.014837  0.094809 -0.040991   \n",
      "BIIB   0.038508  0.054099  0.035296  0.052053  0.036399  0.051309  0.025431   \n",
      "CDNS   0.073460  0.099212  0.102969  0.107213  0.019975  0.084122  0.034054   \n",
      "CHKP   0.033162  0.041019  0.043896  0.044448  0.014172  0.037095  0.016299   \n",
      "CHRW   0.032954  0.034983  0.040544  0.043923  0.012941  0.032407  0.014103   \n",
      "CMCSA  0.034740  0.039727  0.043919  0.051345  0.022774  0.037072  0.013374   \n",
      "COST   0.044160  0.048123  0.046789  0.054046  0.015658  0.047884  0.014781   \n",
      "CSCO   0.041803  0.043601  0.046413  0.058417  0.021174  0.036960  0.015138   \n",
      "CTAS   0.048867  0.051339  0.063195  0.072275  0.019550  0.044900  0.010843   \n",
      "CTSH   0.048970  0.054757  0.063755  0.070108  0.021378  0.049949  0.016235   \n",
      "DISH   0.061276  0.066507  0.090967  0.094336  0.028825  0.070787  0.017033   \n",
      "EBAY   0.050228  0.058839  0.065560  0.068696  0.018099  0.066971  0.020029   \n",
      "EXPD   0.035937  0.044468  0.051667  0.057577  0.016072  0.036851  0.013166   \n",
      "EXPE   0.052591  0.056452  0.094883  0.101755  0.012963  0.066829  0.001031   \n",
      "FAST   0.044514  0.047950  0.054302  0.059103  0.020433  0.044016  0.015322   \n",
      "FISV   0.043512  0.050966  0.062883  0.058602  0.017620  0.042166  0.017299   \n",
      "FLEX   0.060275  0.066314  0.086844  0.110653  0.018336  0.054396  0.016273   \n",
      "GILD   0.022357  0.020653  0.024816  0.028121  0.028139  0.013660  0.010708   \n",
      "GOOG   0.068848  0.082259  0.082118  0.087180  0.019842  0.083908  0.025981   \n",
      "GRMN   0.044260  0.051254  0.063365  0.070854  0.018197  0.044838  0.017076   \n",
      "INTC   0.059509  0.063557  0.072252  0.107668  0.024697  0.058490  0.024298   \n",
      "INTU   0.079865  0.106673  0.109221  0.106958  0.023833  0.098465  0.031704   \n",
      "JNPR   0.044859  0.040632  0.048496  0.061272  0.017980  0.038902  0.012806   \n",
      "KLAC   0.084776  0.101276  0.114739  0.182976  0.025421  0.087327  0.028419   \n",
      "LAMR   0.045394  0.049501  0.074518  0.077971  0.017511  0.045339  0.005663   \n",
      "LBTYA  0.037956  0.046358  0.050886  0.059069  0.017266  0.041924  0.013426   \n",
      "LRCX   0.089680  0.101857  0.119213  0.202109  0.023944  0.092700  0.027994   \n",
      "MCHP   0.081896  0.090389  0.110042  0.159918  0.024754  0.083545  0.025316   \n",
      "MNST   0.042942  0.050583  0.054316  0.055354  0.018577  0.044557  0.016189   \n",
      "MRVL   0.096150  0.113421  0.132962  0.170860  0.021976  0.116970  0.035160   \n",
      "MSFT   0.071295  0.084891  0.080128  0.083970  0.022409  0.080623  0.028020   \n",
      "NTAP   0.050121  0.047866  0.062515  0.089996  0.018668  0.045972  0.010359   \n",
      "NVDA   0.110653  0.134090  0.137388  0.168650  0.024779  0.128129  0.043964   \n",
      "ORCL   0.039389  0.046247  0.044473  0.045178  0.015369  0.037947  0.008897   \n",
      "PAYX   0.043750  0.049289  0.060286  0.061117  0.020388  0.042114  0.012235   \n",
      "PCAR   0.032310  0.025614  0.039004  0.050533  0.015519  0.025369  0.010023   \n",
      "PDCO   0.040547  0.035639  0.047902  0.059465  0.024710  0.032787  0.006761   \n",
      "PTEN   0.040666  0.026057  0.062288  0.101066  0.016442  0.035974 -0.007092   \n",
      "QCOM   0.083225  0.090506  0.098088  0.135333  0.021666  0.084909  0.028306   \n",
      "ROST   0.045722  0.045879  0.068292  0.078086  0.020854  0.047173  0.008167   \n",
      "SBUX   0.046135  0.051688  0.063262  0.066691  0.018033  0.051718  0.014125   \n",
      "SIRI   0.034591  0.032193  0.040708  0.042584  0.020112  0.031981  0.006949   \n",
      "TEVA   0.036512  0.043763  0.064610  0.070823  0.020912  0.041913  0.014617   \n",
      "URBN   0.046777  0.053932  0.075452  0.088183  0.017786  0.052076 -0.003573   \n",
      "VRSN   0.052570  0.066081  0.063570  0.061085  0.021159  0.062177  0.023988   \n",
      "WYNN   0.057106  0.050638  0.086909  0.109981  0.015466  0.059112  0.010515   \n",
      "XRAY   0.032212  0.030169  0.053266  0.058979  0.018598  0.029170  0.003086   \n",
      "\n",
      "           BBBY      BIIB      CDNS  ...      PTEN      QCOM      ROST  \\\n",
      "AAPL   0.069679  0.038508  0.073460  ...  0.040666  0.083225  0.045722   \n",
      "ADBE   0.072034  0.054099  0.099212  ...  0.026057  0.090506  0.045879   \n",
      "ADSK   0.084230  0.035296  0.102969  ...  0.062288  0.098088  0.068292   \n",
      "AMAT   0.095270  0.052053  0.107213  ...  0.101066  0.135333  0.078086   \n",
      "AMGN   0.014837  0.036399  0.019975  ...  0.016442  0.021666  0.020854   \n",
      "AMZN   0.094809  0.051309  0.084122  ...  0.035974  0.084909  0.047173   \n",
      "ATVI  -0.040991  0.025431  0.034054  ... -0.007092  0.028306  0.008167   \n",
      "BBBY   2.349371  0.066603  0.053303  ...  0.177153  0.083561  0.101393   \n",
      "BIIB   0.066603  0.285855  0.049603  ...  0.014648  0.038413  0.018556   \n",
      "CDNS   0.053303  0.049603  0.129035  ...  0.036039  0.093948  0.043445   \n",
      "CHKP   0.023898  0.022051  0.038186  ...  0.031877  0.036241  0.027476   \n",
      "CHRW   0.035633  0.019983  0.032192  ...  0.051871  0.038461  0.035873   \n",
      "CMCSA  0.043757  0.027397  0.035009  ...  0.054244  0.045349  0.049967   \n",
      "COST   0.035954  0.028229  0.046895  ...  0.017385  0.048253  0.033036   \n",
      "CSCO   0.030296  0.028377  0.039599  ...  0.057618  0.048632  0.040416   \n",
      "CTAS   0.061159  0.024399  0.055738  ...  0.080325  0.055047  0.060794   \n",
      "CTSH   0.072354  0.036146  0.054627  ...  0.075416  0.072221  0.055627   \n",
      "DISH   0.152161  0.043495  0.062789  ...  0.125247  0.073930  0.080276   \n",
      "EBAY   0.089271  0.034823  0.056075  ...  0.036015  0.056650  0.038865   \n",
      "EXPD   0.053529  0.022712  0.042538  ...  0.043808  0.047784  0.035709   \n",
      "EXPE   0.142326  0.007622  0.054863  ...  0.151447  0.080569  0.102070   \n",
      "FAST   0.070053  0.030242  0.048849  ...  0.039214  0.047558  0.041379   \n",
      "FISV   0.032150  0.024029  0.051099  ...  0.069012  0.051095  0.058024   \n",
      "FLEX   0.104268  0.043229  0.073917  ...  0.123779  0.089098  0.078026   \n",
      "GILD   0.014079  0.034608  0.018263  ...  0.024090  0.023392  0.022845   \n",
      "GOOG   0.046991  0.041639  0.072243  ...  0.051724  0.078719  0.050902   \n",
      "GRMN   0.059510  0.031520  0.053365  ...  0.056749  0.057759  0.051520   \n",
      "INTC   0.064701  0.036649  0.066269  ...  0.064578  0.087429  0.050319   \n",
      "INTU   0.078289  0.046651  0.102098  ...  0.043761  0.095079  0.065538   \n",
      "JNPR   0.075468  0.027567  0.040236  ...  0.061413  0.051635  0.043504   \n",
      "KLAC   0.089089  0.053363  0.112243  ...  0.088609  0.128868  0.077104   \n",
      "LAMR   0.121743  0.033593  0.048269  ...  0.120104  0.055289  0.082914   \n",
      "LBTYA  0.061344  0.027017  0.036222  ...  0.071907  0.045136  0.041909   \n",
      "LRCX   0.099797  0.048059  0.113356  ...  0.099694  0.140969  0.076815   \n",
      "MCHP   0.095526  0.050187  0.098485  ...  0.097110  0.124969  0.075688   \n",
      "MNST   0.023900  0.034988  0.050558  ...  0.032550  0.049218  0.041711   \n",
      "MRVL   0.128241  0.064226  0.119987  ...  0.069145  0.146955  0.068869   \n",
      "MSFT   0.056809  0.043056  0.076836  ...  0.029080  0.075570  0.042740   \n",
      "NTAP   0.078881  0.026407  0.050840  ...  0.104037  0.068919  0.063240   \n",
      "NVDA   0.125166  0.070183  0.137605  ...  0.055194  0.147851  0.069763   \n",
      "ORCL   0.044066  0.025811  0.040712  ...  0.049486  0.040242  0.036357   \n",
      "PAYX   0.062590  0.026620  0.049652  ...  0.068398  0.051433  0.053772   \n",
      "PCAR   0.071560  0.015856  0.027839  ...  0.066389  0.039372  0.045906   \n",
      "PDCO   0.080443  0.017342  0.038545  ...  0.112756  0.049636  0.049971   \n",
      "PTEN   0.177153  0.014648  0.036039  ...  0.593036  0.074520  0.103454   \n",
      "QCOM   0.083561  0.038413  0.093948  ...  0.074520  0.168811  0.058728   \n",
      "ROST   0.101393  0.018556  0.043445  ...  0.103454  0.058728  0.157934   \n",
      "SBUX   0.052647  0.025457  0.050507  ...  0.058946  0.057078  0.061520   \n",
      "SIRI   0.092311  0.030133  0.032217  ...  0.069772  0.041993  0.039936   \n",
      "TEVA   0.094677  0.046312  0.044965  ...  0.117688  0.047536  0.050362   \n",
      "URBN   0.235074  0.024916  0.032562  ...  0.155605  0.063977  0.117744   \n",
      "VRSN   0.041991  0.039847  0.064710  ...  0.022917  0.057781  0.034544   \n",
      "WYNN   0.114717  0.008747  0.057649  ...  0.189191  0.086842  0.105935   \n",
      "XRAY   0.066686  0.015737  0.031314  ...  0.093737  0.039671  0.060973   \n",
      "\n",
      "           SBUX      SIRI      TEVA      URBN      VRSN      WYNN      XRAY  \n",
      "AAPL   0.046135  0.034591  0.036512  0.046777  0.052570  0.057106  0.032212  \n",
      "ADBE   0.051688  0.032193  0.043763  0.053932  0.066081  0.050638  0.030169  \n",
      "ADSK   0.063262  0.040708  0.064610  0.075452  0.063570  0.086909  0.053266  \n",
      "AMAT   0.066691  0.042584  0.070823  0.088183  0.061085  0.109981  0.058979  \n",
      "AMGN   0.018033  0.020112  0.020912  0.017786  0.021159  0.015466  0.018598  \n",
      "AMZN   0.051718  0.031981  0.041913  0.052076  0.062177  0.059112  0.029170  \n",
      "ATVI   0.014125  0.006949  0.014617 -0.003573  0.023988  0.010515  0.003086  \n",
      "BBBY   0.052647  0.092311  0.094677  0.235074  0.041991  0.114717  0.066686  \n",
      "BIIB   0.025457  0.030133  0.046312  0.024916  0.039847  0.008747  0.015737  \n",
      "CDNS   0.050507  0.032217  0.044965  0.032562  0.064710  0.057649  0.031314  \n",
      "CHKP   0.025404  0.018001  0.025616  0.029070  0.030413  0.031304  0.023163  \n",
      "CHRW   0.033425  0.022071  0.027720  0.047974  0.026199  0.036945  0.034402  \n",
      "CMCSA  0.039821  0.032581  0.036286  0.054378  0.029864  0.059388  0.041697  \n",
      "COST   0.029442  0.024561  0.021608  0.030688  0.037330  0.019869  0.016841  \n",
      "CSCO   0.036462  0.028627  0.033754  0.048713  0.031594  0.046588  0.033207  \n",
      "CTAS   0.048723  0.037288  0.041337  0.069127  0.038866  0.078237  0.047771  \n",
      "CTSH   0.046101  0.033826  0.047544  0.066898  0.040847  0.072731  0.053201  \n",
      "DISH   0.065643  0.062360  0.091833  0.118036  0.050919  0.114004  0.076614  \n",
      "EBAY   0.037041  0.028752  0.034942  0.056231  0.040293  0.043795  0.031619  \n",
      "EXPD   0.035528  0.023728  0.025265  0.051916  0.031728  0.035240  0.034251  \n",
      "EXPE   0.081564  0.048614  0.073359  0.127850  0.037220  0.174370  0.084991  \n",
      "FAST   0.035609  0.028898  0.032107  0.048261  0.035084  0.037668  0.033811  \n",
      "FISV   0.047966  0.033747  0.049074  0.059528  0.039517  0.072319  0.044532  \n",
      "FLEX   0.061416  0.044607  0.078793  0.092585  0.044003  0.107347  0.060677  \n",
      "GILD   0.021490  0.016478  0.022047  0.020257  0.021038  0.019099  0.017511  \n",
      "GOOG   0.048128  0.030182  0.044377  0.051593  0.052202  0.067789  0.042585  \n",
      "GRMN   0.043203  0.030352  0.035481  0.062954  0.034042  0.060875  0.040534  \n",
      "INTC   0.042334  0.031405  0.050588  0.056252  0.046760  0.070529  0.038660  \n",
      "INTU   0.062849  0.038542  0.054390  0.067834  0.070010  0.074924  0.045569  \n",
      "JNPR   0.038877  0.031233  0.038733  0.054935  0.033622  0.049389  0.038217  \n",
      "KLAC   0.065332  0.041392  0.068285  0.084846  0.064113  0.102245  0.050682  \n",
      "LAMR   0.061272  0.043568  0.068121  0.104749  0.034932  0.117616  0.067195  \n",
      "LBTYA  0.038002  0.033561  0.051028  0.063411  0.028114  0.066579  0.037063  \n",
      "LRCX   0.071606  0.045626  0.075239  0.086897  0.064230  0.116310  0.059058  \n",
      "MCHP   0.070997  0.047221  0.069989  0.092876  0.058155  0.113195  0.055195  \n",
      "MNST   0.043604  0.025977  0.026453  0.038945  0.034477  0.045620  0.026768  \n",
      "MRVL   0.071326  0.047281  0.069211  0.085000  0.072788  0.095648  0.053068  \n",
      "MSFT   0.043555  0.030085  0.039023  0.042662  0.053627  0.047490  0.029877  \n",
      "NTAP   0.043853  0.038475  0.054333  0.076999  0.033770  0.083817  0.055236  \n",
      "NVDA   0.073180  0.043302  0.067083  0.070996  0.083568  0.091435  0.039517  \n",
      "ORCL   0.033406  0.025677  0.031376  0.043842  0.033109  0.043258  0.029849  \n",
      "PAYX   0.045307  0.033779  0.042203  0.058809  0.039409  0.057235  0.044841  \n",
      "PCAR   0.033581  0.026381  0.038280  0.062389  0.018581  0.055934  0.034885  \n",
      "PDCO   0.039711  0.040098  0.051888  0.075343  0.026664  0.068966  0.078393  \n",
      "PTEN   0.058946  0.069772  0.117688  0.155605  0.022917  0.189191  0.093737  \n",
      "QCOM   0.057078  0.041993  0.047536  0.063977  0.057781  0.086842  0.039671  \n",
      "ROST   0.061520  0.039936  0.050362  0.117744  0.034544  0.105935  0.060973  \n",
      "SBUX   0.088438  0.034206  0.041114  0.062157  0.035784  0.085543  0.045113  \n",
      "SIRI   0.034206  0.086161  0.033313  0.056555  0.025543  0.051447  0.030934  \n",
      "TEVA   0.041114  0.033313  0.210544  0.079846  0.032289  0.081788  0.058257  \n",
      "URBN   0.062157  0.056555  0.079846  0.316990  0.027094  0.135522  0.072839  \n",
      "VRSN   0.035784  0.025543  0.032289  0.027094  0.073091  0.031523  0.028124  \n",
      "WYNN   0.085543  0.051447  0.081788  0.135522  0.031523  0.316156  0.077383  \n",
      "XRAY   0.045113  0.030934  0.058257  0.072839  0.028124  0.077383  0.129796  \n",
      "\n",
      "[54 rows x 54 columns]\n"
     ]
    }
   ],
   "source": [
    "import yfinance as yf\n",
    "import pandas as pd\n",
    "\n",
    "# define the list of Nasdaq stock symbols\n",
    "tickers =  ['AAPL', 'ADBE', 'ADSK', 'AMAT', 'AMGN', 'AMZN', 'ATVI', 'BBBY', 'BIIB',\n",
    "       'CDNS', 'CHKP', 'CHRW', 'CMCSA', 'COST', 'CSCO', 'CTAS', 'CTSH', 'DISH',\n",
    "       'EBAY', 'EXPD', 'EXPE', 'FAST', 'FISV', 'FLEX', 'GILD', 'GOOG', 'GRMN',\n",
    "       'INTC', 'INTU', 'JNPR', 'KLAC', 'LAMR', 'LBTYA', 'LRCX', 'MCHP', 'MNST',\n",
    "       'MRVL', 'MSFT', 'NTAP', 'NVDA', 'ORCL', 'PAYX', 'PCAR', 'PDCO', 'PTEN',\n",
    "       'QCOM', 'ROST', 'SBUX', 'SIRI', 'TEVA', 'URBN', 'VRSN', 'WYNN', 'XRAY']\n",
    "\n",
    "\n",
    "data = yf.download(tickers, start=\"2020-04-01\",)\n",
    "\n",
    "# extract the adjusted close prices\n",
    "adj_close = data['Adj Close']\n",
    "\n",
    "returns = adj_close.pct_change()\n",
    "\n",
    "mean_returns = returns.mean() * 252\n",
    "\n",
    "std_returns = returns.std() * (252 ** 0.5)\n",
    "\n",
    "cov_matrix = returns.cov() * 252\n",
    "\n",
    "\n",
    "print('Mean Returns:')\n",
    "print(mean_returns)\n",
    "\n",
    "print('Standard Deviation of Returns:')\n",
    "print(std_returns)\n",
    "\n",
    "print('Covariance Matrix of Returns:')\n",
    "print(cov_matrix)\n"
   ]
  },
  {
   "cell_type": "code",
   "execution_count": 2,
   "id": "f8f1ebb4",
   "metadata": {},
   "outputs": [],
   "source": [
    "most_negative_cov = cov_matrix.min().min()\n",
    "most_positive_cov = cov_matrix.max().max()\n",
    "most_negative_var = cov_matrix.values.diagonal().min()\n",
    "most_positive_var = cov_matrix.values.diagonal().max()\n"
   ]
  },
  {
   "cell_type": "code",
   "execution_count": 3,
   "id": "9e27334f",
   "metadata": {},
   "outputs": [
    {
     "name": "stdout",
     "output_type": "stream",
     "text": [
      "-0.04099053919632671\n"
     ]
    }
   ],
   "source": [
    "print(most_negative_cov)"
   ]
  },
  {
   "cell_type": "code",
   "execution_count": 4,
   "id": "20c47fde",
   "metadata": {},
   "outputs": [
    {
     "name": "stdout",
     "output_type": "stream",
     "text": [
      "2.349371477314189\n"
     ]
    }
   ],
   "source": [
    "print(most_positive_cov )"
   ]
  },
  {
   "cell_type": "code",
   "execution_count": 5,
   "id": "d415a8c1",
   "metadata": {},
   "outputs": [
    {
     "name": "stdout",
     "output_type": "stream",
     "text": [
      "('ATVI', 'BBBY')\n",
      "('BBBY', 'BBBY')\n"
     ]
    }
   ],
   "source": [
    "min_indices = cov_matrix.unstack().idxmin()\n",
    "max_indices = cov_matrix.unstack().idxmax()\n",
    "print(min_indices)\n",
    "print(max_indices)"
   ]
  },
  {
   "cell_type": "code",
   "execution_count": 6,
   "id": "4ce95ed2",
   "metadata": {},
   "outputs": [],
   "source": [
    "volatility = returns.std()\n",
    "\n",
    "# calculate the Sharpe ratio of each stock with a risk-free rate of 0.02\n",
    "sharpe_ratio = (mean_returns - 0.02) / volatility"
   ]
  },
  {
   "cell_type": "code",
   "execution_count": 7,
   "id": "bb06e946",
   "metadata": {},
   "outputs": [
    {
     "name": "stdout",
     "output_type": "stream",
     "text": [
      "Sharpe Ratio:\n",
      "AAPL     18.109402\n",
      "ADBE      5.187475\n",
      "ADSK      6.652556\n",
      "AMAT     14.176451\n",
      "AMGN      7.270801\n",
      "AMZN      3.623025\n",
      "ATVI      8.417883\n",
      "BBBY      1.156994\n",
      "BIIB      3.232325\n",
      "CDNS     19.065014\n",
      "CHKP      6.502900\n",
      "CHRW      9.493690\n",
      "CMCSA     4.948834\n",
      "COST     13.866230\n",
      "CSCO      7.023990\n",
      "CTAS     20.034355\n",
      "CTSH      7.798087\n",
      "DISH     -5.661218\n",
      "EBAY      8.750354\n",
      "EXPD     12.170756\n",
      "EXPE      9.404066\n",
      "FAST     14.065792\n",
      "FISV      6.268667\n",
      "FLEX     14.695462\n",
      "GILD      7.130400\n",
      "GOOG     12.065531\n",
      "GRMN      8.276387\n",
      "INTC     -4.603219\n",
      "INTU     12.192550\n",
      "JNPR     11.535384\n",
      "KLAC     15.426843\n",
      "LAMR     15.296878\n",
      "LBTYA     3.884957\n",
      "LRCX     12.461313\n",
      "MCHP     14.006629\n",
      "MNST     14.988855\n",
      "MRVL      9.443119\n",
      "MSFT     12.457328\n",
      "NTAP     10.196519\n",
      "NVDA     18.324796\n",
      "ORCL     14.633521\n",
      "PAYX     14.352353\n",
      "PCAR     15.011117\n",
      "PDCO     12.436320\n",
      "PTEN     18.595866\n",
      "QCOM     10.497545\n",
      "ROST      6.331945\n",
      "SBUX     11.941543\n",
      "SIRI     -1.032598\n",
      "TEVA      2.650690\n",
      "URBN     10.309931\n",
      "VRSN      4.886459\n",
      "WYNN     10.750000\n",
      "XRAY      3.919352\n",
      "dtype: float64\n"
     ]
    }
   ],
   "source": [
    "print('Sharpe Ratio:')\n",
    "print(sharpe_ratio)"
   ]
  },
  {
   "cell_type": "code",
   "execution_count": 8,
   "id": "5272a6ff",
   "metadata": {},
   "outputs": [],
   "source": [
    "import pandas as pd  \n",
    "import numpy as np\n",
    "import matplotlib.pyplot as plt\n",
    "import seaborn as sns"
   ]
  },
  {
   "cell_type": "code",
   "execution_count": 9,
   "id": "4dcff6fd",
   "metadata": {},
   "outputs": [],
   "source": [
    "stocks = ['AAPL','AMAT','CDNS','KLAC','PTEN','PCAR']"
   ]
  },
  {
   "cell_type": "code",
   "execution_count": 10,
   "id": "aa1f2b3b",
   "metadata": {},
   "outputs": [
    {
     "name": "stdout",
     "output_type": "stream",
     "text": [
      "6\n"
     ]
    }
   ],
   "source": [
    "df = pd.DataFrame()\n",
    "print(len(stocks))\n",
    "for stock in stocks:\n",
    "    df[stock] = pd.read_csv('Nasdaq_ALL_stocks.csv')[stock]"
   ]
  },
  {
   "cell_type": "code",
   "execution_count": 11,
   "id": "5dad9c8f",
   "metadata": {},
   "outputs": [
    {
     "data": {
      "text/html": [
       "<div>\n",
       "<style scoped>\n",
       "    .dataframe tbody tr th:only-of-type {\n",
       "        vertical-align: middle;\n",
       "    }\n",
       "\n",
       "    .dataframe tbody tr th {\n",
       "        vertical-align: top;\n",
       "    }\n",
       "\n",
       "    .dataframe thead th {\n",
       "        text-align: right;\n",
       "    }\n",
       "</style>\n",
       "<table border=\"1\" class=\"dataframe\">\n",
       "  <thead>\n",
       "    <tr style=\"text-align: right;\">\n",
       "      <th></th>\n",
       "      <th>AAPL</th>\n",
       "      <th>AMAT</th>\n",
       "      <th>CDNS</th>\n",
       "      <th>KLAC</th>\n",
       "      <th>PTEN</th>\n",
       "      <th>PCAR</th>\n",
       "    </tr>\n",
       "  </thead>\n",
       "  <tbody>\n",
       "    <tr>\n",
       "      <th>0</th>\n",
       "      <td>60.227501</td>\n",
       "      <td>43.299999</td>\n",
       "      <td>65.239998</td>\n",
       "      <td>131.610001</td>\n",
       "      <td>1.89</td>\n",
       "      <td>40.080002</td>\n",
       "    </tr>\n",
       "    <tr>\n",
       "      <th>1</th>\n",
       "      <td>61.232498</td>\n",
       "      <td>43.240002</td>\n",
       "      <td>65.930000</td>\n",
       "      <td>132.440002</td>\n",
       "      <td>1.88</td>\n",
       "      <td>40.580002</td>\n",
       "    </tr>\n",
       "    <tr>\n",
       "      <th>2</th>\n",
       "      <td>60.352501</td>\n",
       "      <td>42.279999</td>\n",
       "      <td>63.930000</td>\n",
       "      <td>127.940002</td>\n",
       "      <td>1.70</td>\n",
       "      <td>41.073334</td>\n",
       "    </tr>\n",
       "    <tr>\n",
       "      <th>3</th>\n",
       "      <td>65.617500</td>\n",
       "      <td>46.150002</td>\n",
       "      <td>69.419998</td>\n",
       "      <td>148.500000</td>\n",
       "      <td>1.93</td>\n",
       "      <td>43.293331</td>\n",
       "    </tr>\n",
       "    <tr>\n",
       "      <th>4</th>\n",
       "      <td>64.857498</td>\n",
       "      <td>47.560001</td>\n",
       "      <td>69.050003</td>\n",
       "      <td>147.270004</td>\n",
       "      <td>2.08</td>\n",
       "      <td>43.686668</td>\n",
       "    </tr>\n",
       "  </tbody>\n",
       "</table>\n",
       "</div>"
      ],
      "text/plain": [
       "        AAPL       AMAT       CDNS        KLAC  PTEN       PCAR\n",
       "0  60.227501  43.299999  65.239998  131.610001  1.89  40.080002\n",
       "1  61.232498  43.240002  65.930000  132.440002  1.88  40.580002\n",
       "2  60.352501  42.279999  63.930000  127.940002  1.70  41.073334\n",
       "3  65.617500  46.150002  69.419998  148.500000  1.93  43.293331\n",
       "4  64.857498  47.560001  69.050003  147.270004  2.08  43.686668"
      ]
     },
     "execution_count": 11,
     "metadata": {},
     "output_type": "execute_result"
    }
   ],
   "source": [
    "df.head()"
   ]
  },
  {
   "cell_type": "code",
   "execution_count": 12,
   "id": "ff4ae27d",
   "metadata": {},
   "outputs": [],
   "source": [
    "returns = df.pct_change()"
   ]
  },
  {
   "cell_type": "code",
   "execution_count": 13,
   "id": "724be2c3",
   "metadata": {},
   "outputs": [],
   "source": [
    "def portfolio_annualised_performance(weights, mean_returns, cov_matrix):\n",
    "    returns = np.sum(mean_returns*weights ) *252\n",
    "    std = np.sqrt(np.dot(weights.T, np.dot(cov_matrix, weights))) * np.sqrt(252)\n",
    "    return std, returns"
   ]
  },
  {
   "cell_type": "code",
   "execution_count": 14,
   "id": "bd5641c1",
   "metadata": {},
   "outputs": [],
   "source": [
    "def random_portfolios(num_portfolios, mean_returns, cov_matrix, risk_free_rate):\n",
    "    results = np.zeros((3,num_portfolios))\n",
    "    weights_record = []\n",
    "    for i in range(num_portfolios):\n",
    "        weights = np.random.random(len(stocks))\n",
    "        weights /= np.sum(weights)\n",
    "        weights_record.append(weights)\n",
    "        portfolio_std_dev, portfolio_return = portfolio_annualised_performance(weights, mean_returns, cov_matrix)\n",
    "        results[0,i] = portfolio_std_dev\n",
    "        results[1,i] = portfolio_return\n",
    "        results[2,i] = (portfolio_return - risk_free_rate) / portfolio_std_dev\n",
    "    return results, weights_record"
   ]
  },
  {
   "cell_type": "code",
   "execution_count": 15,
   "id": "5cfa98e6",
   "metadata": {},
   "outputs": [],
   "source": [
    "returns = df.pct_change()\n",
    "mean_returns = returns.mean()\n",
    "cov_matrix = returns.cov()\n",
    "num_portfolios = 25000\n",
    "risk_free_rate = 0.020"
   ]
  },
  {
   "cell_type": "code",
   "execution_count": 16,
   "id": "c90fd698",
   "metadata": {},
   "outputs": [
    {
     "name": "stdout",
     "output_type": "stream",
     "text": [
      "10652\n",
      "0.2982112897408781\n",
      "0.49422672155638436\n",
      "1.5902373178709954\n"
     ]
    }
   ],
   "source": [
    "results, weights = random_portfolios(num_portfolios,mean_returns, cov_matrix, risk_free_rate)\n",
    "max_sharpe_idx = np.argmax(results[2])\n",
    "print(max_sharpe_idx)\n",
    "sdp, rp = results[0,max_sharpe_idx], results[1,max_sharpe_idx]\n",
    "print(sdp)\n",
    "print(rp)\n",
    "max_sharpe = results[2,max_sharpe_idx]\n",
    "print(max_sharpe)"
   ]
  },
  {
   "cell_type": "markdown",
   "id": "3212af6d",
   "metadata": {},
   "source": [
    "# Max sharpe ratio is 1.59"
   ]
  },
  {
   "cell_type": "code",
   "execution_count": 17,
   "id": "492032c2",
   "metadata": {},
   "outputs": [
    {
     "name": "stdout",
     "output_type": "stream",
     "text": [
      "29.161946319954136\n",
      "0.6812721860564472\n",
      "32.880272839886224\n",
      "1.1280440341972298\n",
      "21.5196625735899\n",
      "14.628802046316055\n"
     ]
    }
   ],
   "source": [
    "weights = weights[max_sharpe_idx]\n",
    "sum = 0\n",
    "for i in weights:\n",
    "    print(i*100)"
   ]
  },
  {
   "cell_type": "code",
   "execution_count": 19,
   "id": "660b81bb",
   "metadata": {},
   "outputs": [],
   "source": [
    "df['portfolio'] = df['AAPL']*weights[0] + df['AMAT']*weights[1] + df['CDNS']*weights[2] + df['KLAC']*weights[3] + df['PTEN']*weights[4] + df['PCAR']*weights[5]"
   ]
  },
  {
   "cell_type": "code",
   "execution_count": 20,
   "id": "1c59e036",
   "metadata": {},
   "outputs": [
    {
     "data": {
      "text/plain": [
       "[<matplotlib.lines.Line2D at 0x1328fac2f40>]"
      ]
     },
     "execution_count": 20,
     "metadata": {},
     "output_type": "execute_result"
    },
    {
     "data": {
      "image/png": "[encoded data removed]",
      "text/plain": [
       "<Figure size 640x480 with 1 Axes>"
      ]
     },
     "metadata": {},
     "output_type": "display_data"
    }
   ],
   "source": [
    "plt.plot(df.index,df['portfolio'])"
   ]
  },
  {
   "cell_type": "code",
   "execution_count": 21,
   "id": "855c6054",
   "metadata": {},
   "outputs": [],
   "source": [
    "df1 = df['portfolio']"
   ]
  },
  {
   "cell_type": "code",
   "execution_count": 22,
   "id": "7d52414d",
   "metadata": {},
   "outputs": [],
   "source": [
    "from sklearn.preprocessing import MinMaxScaler\n",
    "scaler=MinMaxScaler(feature_range=(0,1))\n",
    "df1=scaler.fit_transform(np.array(df1).reshape(-1,1))"
   ]
  },
  {
   "cell_type": "code",
   "execution_count": 23,
   "id": "5bb2863b",
   "metadata": {},
   "outputs": [],
   "source": [
    "training_size=int(len(df1)*0.7)\n",
    "test_size=len(df1)-training_size\n",
    "train_data,test_data=df1[0:training_size,:],df1[training_size:len(df1),:1]"
   ]
  },
  {
   "cell_type": "code",
   "execution_count": 24,
   "id": "efe2c694",
   "metadata": {},
   "outputs": [],
   "source": [
    "def create_dataset(dataset,time_step=1):\n",
    "    X, Y = [], []\n",
    "    for i in range(len(dataset)-time_step-1):\n",
    "        a = dataset[i:(i+time_step),0]\n",
    "        X.append(a)\n",
    "        Y.append(dataset[i+time_step,0])\n",
    "    return np.array(X),np.array(Y)"
   ]
  },
  {
   "cell_type": "code",
   "execution_count": 25,
   "id": "2a6b3249",
   "metadata": {},
   "outputs": [],
   "source": [
    "time_step = 30\n",
    "X_train, y_train = create_dataset(train_data, time_step)\n",
    "X_test, y_test = create_dataset(test_data,time_step)"
   ]
  },
  {
   "cell_type": "code",
   "execution_count": 26,
   "id": "30989762",
   "metadata": {},
   "outputs": [],
   "source": [
    "from tensorflow.keras.models import Sequential\n",
    "from tensorflow.keras.layers import Dense\n",
    "from tensorflow.keras.layers import LSTM\n",
    "from keras.layers import Dense, Dropout\n",
    "\n",
    "model=Sequential()#Stacked LSTM\n",
    "model.add(LSTM(50,return_sequences=True,input_shape=(30,1)))\n",
    "model.add(Dropout(0.1))\n",
    "model.add(LSTM(20))\n",
    "model.add(Dropout(0.1))\n",
    "model.add(Dense(10))\n",
    "model.add(Dense(1))\n",
    "model.compile(loss='mean_squared_error',optimizer='adam')"
   ]
  },
  {
   "cell_type": "code",
   "execution_count": 27,
   "id": "118f078b",
   "metadata": {},
   "outputs": [
    {
     "name": "stdout",
     "output_type": "stream",
     "text": [
      "Model: \"sequential\"\n",
      "_________________________________________________________________\n",
      " Layer (type)                Output Shape              Param #   \n",
      "=================================================================\n",
      " lstm (LSTM)                 (None, 30, 50)            10400     \n",
      "                                                                 \n",
      " dropout (Dropout)           (None, 30, 50)            0         \n",
      "                                                                 \n",
      " lstm_1 (LSTM)               (None, 20)                5680      \n",
      "                                                                 \n",
      " dropout_1 (Dropout)         (None, 20)                0         \n",
      "                                                                 \n",
      " dense (Dense)               (None, 10)                210       \n",
      "                                                                 \n",
      " dense_1 (Dense)             (None, 1)                 11        \n",
      "                                                                 \n",
      "=================================================================\n",
      "Total params: 16,301\n",
      "Trainable params: 16,301\n",
      "Non-trainable params: 0\n",
      "_________________________________________________________________\n"
     ]
    }
   ],
   "source": [
    "model.summary()"
   ]
  },
  {
   "cell_type": "code",
   "execution_count": 28,
   "id": "e2b6a16a",
   "metadata": {},
   "outputs": [
    {
     "name": "stdout",
     "output_type": "stream",
     "text": [
      "Epoch 1/30\n",
      "8/8 [==============================] - 4s 134ms/step - loss: 0.2510 - val_loss: 0.0615\n",
      "Epoch 2/30\n",
      "8/8 [==============================] - 0s 28ms/step - loss: 0.0265 - val_loss: 0.0171\n",
      "Epoch 3/30\n",
      "8/8 [==============================] - 0s 31ms/step - loss: 0.0180 - val_loss: 0.0240\n",
      "Epoch 4/30\n",
      "8/8 [==============================] - 0s 31ms/step - loss: 0.0138 - val_loss: 0.0328\n",
      "Epoch 5/30\n",
      "8/8 [==============================] - 0s 53ms/step - loss: 0.0105 - val_loss: 0.0073\n",
      "Epoch 6/30\n",
      "8/8 [==============================] - 0s 36ms/step - loss: 0.0107 - val_loss: 0.0041\n",
      "Epoch 7/30\n",
      "8/8 [==============================] - 0s 34ms/step - loss: 0.0078 - val_loss: 0.0103\n",
      "Epoch 8/30\n",
      "8/8 [==============================] - 0s 34ms/step - loss: 0.0065 - val_loss: 0.0111\n",
      "Epoch 9/30\n",
      "8/8 [==============================] - 0s 29ms/step - loss: 0.0068 - val_loss: 0.0057\n",
      "Epoch 10/30\n",
      "8/8 [==============================] - 0s 34ms/step - loss: 0.0064 - val_loss: 0.0056\n",
      "Epoch 11/30\n",
      "8/8 [==============================] - 0s 32ms/step - loss: 0.0062 - val_loss: 0.0052\n",
      "Epoch 12/30\n",
      "8/8 [==============================] - 0s 31ms/step - loss: 0.0056 - val_loss: 0.0049\n",
      "Epoch 13/30\n",
      "8/8 [==============================] - 0s 50ms/step - loss: 0.0058 - val_loss: 0.0048\n",
      "Epoch 14/30\n",
      "8/8 [==============================] - 0s 36ms/step - loss: 0.0053 - val_loss: 0.0040\n",
      "Epoch 15/30\n",
      "8/8 [==============================] - 0s 32ms/step - loss: 0.0053 - val_loss: 0.0038\n",
      "Epoch 16/30\n",
      "8/8 [==============================] - 0s 33ms/step - loss: 0.0049 - val_loss: 0.0033\n",
      "Epoch 17/30\n",
      "8/8 [==============================] - 0s 32ms/step - loss: 0.0046 - val_loss: 0.0038\n",
      "Epoch 18/30\n",
      "8/8 [==============================] - 0s 34ms/step - loss: 0.0045 - val_loss: 0.0033\n",
      "Epoch 19/30\n",
      "8/8 [==============================] - 0s 60ms/step - loss: 0.0049 - val_loss: 0.0036\n",
      "Epoch 20/30\n",
      "8/8 [==============================] - 0s 30ms/step - loss: 0.0043 - val_loss: 0.0036\n",
      "Epoch 21/30\n",
      "8/8 [==============================] - 0s 30ms/step - loss: 0.0044 - val_loss: 0.0030\n",
      "Epoch 22/30\n",
      "8/8 [==============================] - 0s 32ms/step - loss: 0.0044 - val_loss: 0.0034\n",
      "Epoch 23/30\n",
      "8/8 [==============================] - 0s 30ms/step - loss: 0.0042 - val_loss: 0.0032\n",
      "Epoch 24/30\n",
      "8/8 [==============================] - 0s 30ms/step - loss: 0.0045 - val_loss: 0.0035\n",
      "Epoch 25/30\n",
      "8/8 [==============================] - 0s 35ms/step - loss: 0.0046 - val_loss: 0.0034\n",
      "Epoch 26/30\n",
      "8/8 [==============================] - 0s 30ms/step - loss: 0.0036 - val_loss: 0.0034\n",
      "Epoch 27/30\n",
      "8/8 [==============================] - 0s 28ms/step - loss: 0.0037 - val_loss: 0.0030\n",
      "Epoch 28/30\n",
      "8/8 [==============================] - 0s 30ms/step - loss: 0.0037 - val_loss: 0.0036\n",
      "Epoch 29/30\n",
      "8/8 [==============================] - 0s 33ms/step - loss: 0.0038 - val_loss: 0.0026\n",
      "Epoch 30/30\n",
      "8/8 [==============================] - 0s 31ms/step - loss: 0.0040 - val_loss: 0.0042\n"
     ]
    },
    {
     "data": {
      "text/plain": [
       "<keras.callbacks.History at 0x1329a0bc0d0>"
      ]
     },
     "execution_count": 28,
     "metadata": {},
     "output_type": "execute_result"
    }
   ],
   "source": [
    "model.fit(X_train,y_train,validation_data=(X_test,y_test),epochs=30,batch_size=64,verbose=1)"
   ]
  },
  {
   "cell_type": "code",
   "execution_count": 29,
   "id": "192151ee",
   "metadata": {},
   "outputs": [
    {
     "name": "stdout",
     "output_type": "stream",
     "text": [
      "16/16 [==============================] - 1s 7ms/step\n",
      "7/7 [==============================] - 0s 9ms/step\n"
     ]
    }
   ],
   "source": [
    "train_predict=model.predict(X_train)\n",
    "test_predict=model.predict(X_test)"
   ]
  },
  {
   "cell_type": "code",
   "execution_count": 30,
   "id": "ba0628ec",
   "metadata": {},
   "outputs": [],
   "source": [
    "train_predict=scaler.inverse_transform(train_predict)\n",
    "test_predict=scaler.inverse_transform(test_predict)"
   ]
  },
  {
   "cell_type": "code",
   "execution_count": 31,
   "id": "fefa9b74",
   "metadata": {},
   "outputs": [
    {
     "name": "stdout",
     "output_type": "stream",
     "text": [
      "97.73035634557225\n",
      "114.94724136954773\n"
     ]
    }
   ],
   "source": [
    "import math\n",
    "from sklearn.metrics import mean_squared_error\n",
    "print(math.sqrt(mean_squared_error(y_train,train_predict)))\n",
    "print(math.sqrt(mean_squared_error(y_test,test_predict)))"
   ]
  },
  {
   "cell_type": "code",
   "execution_count": 32,
   "id": "8c6cc3fa",
   "metadata": {},
   "outputs": [
    {
     "data": {
      "image/png": "[encoded data removed]",
      "text/plain": [
       "<Figure size 1600x800 with 1 Axes>"
      ]
     },
     "metadata": {},
     "output_type": "display_data"
    }
   ],
   "source": [
    "look_back = 30\n",
    "trainPredictPlot = np.empty_like(df1)\n",
    "trainPredictPlot[:,:] = np.nan\n",
    "trainPredictPlot[look_back:len(train_predict)+look_back,:] = train_predict\n",
    "testPredictPlot = np.empty_like(df1)\n",
    "testPredictPlot[:, :] = np.nan\n",
    "testPredictPlot[len(train_predict)+(look_back)*2+1:len(df1)-1,:] = test_predict\n",
    "plt.figure(figsize=(16,8))\n",
    "plt.plot(scaler.inverse_transform(df1),label='actualData',color='red')\n",
    "plt.plot(trainPredictPlot,label='trainPred',color='b')\n",
    "plt.plot(testPredictPlot,label='testPred',color='y')\n",
    "plt.legend()\n",
    "plt.show()"
   ]
  },
  {
   "cell_type": "code",
   "execution_count": 33,
   "id": "22209dfa",
   "metadata": {},
   "outputs": [
    {
     "data": {
      "text/plain": [
       "770"
      ]
     },
     "execution_count": 33,
     "metadata": {},
     "output_type": "execute_result"
    }
   ],
   "source": [
    "len(test_data)\n",
    "len(df1)"
   ]
  },
  {
   "cell_type": "code",
   "execution_count": 34,
   "id": "28cee408",
   "metadata": {},
   "outputs": [
    {
     "name": "stdout",
     "output_type": "stream",
     "text": [
      "[array([0.87076007, 0.87636253, 0.91344957, 0.90592117, 0.935844  ,\n",
      "       0.92514146, 0.93715629, 0.9475958 , 0.92476103, 0.93855173,\n",
      "       0.93218302, 0.93170659, 0.92421488, 0.94679796, 0.95619557,\n",
      "       0.97794473, 0.98861545, 0.98182322, 0.95627691, 0.96100124,\n",
      "       0.97458933, 0.97341232, 0.96512917, 1.        , 0.99134904,\n",
      "       0.98648214, 0.99233747, 0.99475531, 0.9930883 , 0.98502024])]\n",
      "[0.8707600669697041, 0.876362532656671, 0.9134495678394324, 0.9059211699348334, 0.9358440029802525, 0.9251414556420875, 0.9371562895508242, 0.9475958010671596, 0.9247610271598766, 0.9385517261496666, 0.9321830199995514, 0.9317065928606619, 0.9242148839605461, 0.9467979596828536, 0.956195572889495, 0.977944733509955, 0.9886154475646364, 0.9818232173692364, 0.9562769092587656, 0.9610012368936519, 0.974589328869535, 0.9734123205831543, 0.9651291700781822, 0.9999999999999999, 0.9913490407291491, 0.986482142089019, 0.9923374700102928, 0.9947553132465098, 0.9930883025339031, 0.9850202396459652]\n",
      "[0.92845565]\n",
      "31\n",
      "1 day input [0.87636253 0.91344957 0.90592117 0.935844   0.92514146 0.93715629\n",
      " 0.9475958  0.92476103 0.93855173 0.93218302 0.93170659 0.92421488\n",
      " 0.94679796 0.95619557 0.97794473 0.98861545 0.98182322 0.95627691\n",
      " 0.96100124 0.97458933 0.97341232 0.96512917 1.         0.99134904\n",
      " 0.98648214 0.99233747 0.99475531 0.9930883  0.98502024 0.92845565]\n",
      "(1, 30)\n",
      "1 day output [[0.92804027]]\n",
      "2 day input [0.91344957 0.90592117 0.935844   0.92514146 0.93715629 0.9475958\n",
      " 0.92476103 0.93855173 0.93218302 0.93170659 0.92421488 0.94679796\n",
      " 0.95619557 0.97794473 0.98861545 0.98182322 0.95627691 0.96100124\n",
      " 0.97458933 0.97341232 0.96512917 1.         0.99134904 0.98648214\n",
      " 0.99233747 0.99475531 0.9930883  0.98502024 0.92845565 0.92804027]\n",
      "(1, 30)\n",
      "2 day output [[0.9261207]]\n",
      "3 day input [0.90592117 0.935844   0.92514146 0.93715629 0.9475958  0.92476103\n",
      " 0.93855173 0.93218302 0.93170659 0.92421488 0.94679796 0.95619557\n",
      " 0.97794473 0.98861545 0.98182322 0.95627691 0.96100124 0.97458933\n",
      " 0.97341232 0.96512917 1.         0.99134904 0.98648214 0.99233747\n",
      " 0.99475531 0.9930883  0.98502024 0.92845565 0.92804027 0.9261207 ]\n",
      "(1, 30)\n",
      "3 day output [[0.9230848]]\n",
      "4 day input [0.935844   0.92514146 0.93715629 0.9475958  0.92476103 0.93855173\n",
      " 0.93218302 0.93170659 0.92421488 0.94679796 0.95619557 0.97794473\n",
      " 0.98861545 0.98182322 0.95627691 0.96100124 0.97458933 0.97341232\n",
      " 0.96512917 1.         0.99134904 0.98648214 0.99233747 0.99475531\n",
      " 0.9930883  0.98502024 0.92845565 0.92804027 0.9261207  0.9230848 ]\n",
      "(1, 30)\n",
      "4 day output [[0.9191554]]\n",
      "5 day input [0.92514146 0.93715629 0.9475958  0.92476103 0.93855173 0.93218302\n",
      " 0.93170659 0.92421488 0.94679796 0.95619557 0.97794473 0.98861545\n",
      " 0.98182322 0.95627691 0.96100124 0.97458933 0.97341232 0.96512917\n",
      " 1.         0.99134904 0.98648214 0.99233747 0.99475531 0.9930883\n",
      " 0.98502024 0.92845565 0.92804027 0.9261207  0.9230848  0.91915542]\n",
      "(1, 30)\n",
      "5 day output [[0.91461766]]\n",
      "6 day input [0.93715629 0.9475958  0.92476103 0.93855173 0.93218302 0.93170659\n",
      " 0.92421488 0.94679796 0.95619557 0.97794473 0.98861545 0.98182322\n",
      " 0.95627691 0.96100124 0.97458933 0.97341232 0.96512917 1.\n",
      " 0.99134904 0.98648214 0.99233747 0.99475531 0.9930883  0.98502024\n",
      " 0.92845565 0.92804027 0.9261207  0.9230848  0.91915542 0.91461766]\n",
      "(1, 30)\n",
      "6 day output [[0.9096025]]\n",
      "7 day input [0.9475958  0.92476103 0.93855173 0.93218302 0.93170659 0.92421488\n",
      " 0.94679796 0.95619557 0.97794473 0.98861545 0.98182322 0.95627691\n",
      " 0.96100124 0.97458933 0.97341232 0.96512917 1.         0.99134904\n",
      " 0.98648214 0.99233747 0.99475531 0.9930883  0.98502024 0.92845565\n",
      " 0.92804027 0.9261207  0.9230848  0.91915542 0.91461766 0.90960252]\n",
      "(1, 30)\n",
      "7 day output [[0.9042917]]\n",
      "8 day input [0.92476103 0.93855173 0.93218302 0.93170659 0.92421488 0.94679796\n",
      " 0.95619557 0.97794473 0.98861545 0.98182322 0.95627691 0.96100124\n",
      " 0.97458933 0.97341232 0.96512917 1.         0.99134904 0.98648214\n",
      " 0.99233747 0.99475531 0.9930883  0.98502024 0.92845565 0.92804027\n",
      " 0.9261207  0.9230848  0.91915542 0.91461766 0.90960252 0.90429169]\n",
      "(1, 30)\n",
      "8 day output [[0.8987974]]\n",
      "9 day input [0.93855173 0.93218302 0.93170659 0.92421488 0.94679796 0.95619557\n",
      " 0.97794473 0.98861545 0.98182322 0.95627691 0.96100124 0.97458933\n",
      " 0.97341232 0.96512917 1.         0.99134904 0.98648214 0.99233747\n",
      " 0.99475531 0.9930883  0.98502024 0.92845565 0.92804027 0.9261207\n",
      " 0.9230848  0.91915542 0.91461766 0.90960252 0.90429169 0.89879739]\n",
      "(1, 30)\n",
      "9 day output [[0.89316297]]\n",
      "10 day input [0.93218302 0.93170659 0.92421488 0.94679796 0.95619557 0.97794473\n",
      " 0.98861545 0.98182322 0.95627691 0.96100124 0.97458933 0.97341232\n",
      " 0.96512917 1.         0.99134904 0.98648214 0.99233747 0.99475531\n",
      " 0.9930883  0.98502024 0.92845565 0.92804027 0.9261207  0.9230848\n",
      " 0.91915542 0.91461766 0.90960252 0.90429169 0.89879739 0.89316297]\n",
      "(1, 30)\n",
      "10 day output [[0.8875062]]\n",
      "11 day input [0.93170659 0.92421488 0.94679796 0.95619557 0.97794473 0.98861545\n",
      " 0.98182322 0.95627691 0.96100124 0.97458933 0.97341232 0.96512917\n",
      " 1.         0.99134904 0.98648214 0.99233747 0.99475531 0.9930883\n",
      " 0.98502024 0.92845565 0.92804027 0.9261207  0.9230848  0.91915542\n",
      " 0.91461766 0.90960252 0.90429169 0.89879739 0.89316297 0.88750619]\n",
      "(1, 30)\n",
      "11 day output [[0.8818458]]\n",
      "12 day input [0.92421488 0.94679796 0.95619557 0.97794473 0.98861545 0.98182322\n",
      " 0.95627691 0.96100124 0.97458933 0.97341232 0.96512917 1.\n",
      " 0.99134904 0.98648214 0.99233747 0.99475531 0.9930883  0.98502024\n",
      " 0.92845565 0.92804027 0.9261207  0.9230848  0.91915542 0.91461766\n",
      " 0.90960252 0.90429169 0.89879739 0.89316297 0.88750619 0.88184577]\n",
      "(1, 30)\n",
      "12 day output [[0.8762246]]\n",
      "13 day input [0.94679796 0.95619557 0.97794473 0.98861545 0.98182322 0.95627691\n",
      " 0.96100124 0.97458933 0.97341232 0.96512917 1.         0.99134904\n",
      " 0.98648214 0.99233747 0.99475531 0.9930883  0.98502024 0.92845565\n",
      " 0.92804027 0.9261207  0.9230848  0.91915542 0.91461766 0.90960252\n",
      " 0.90429169 0.89879739 0.89316297 0.88750619 0.88184577 0.87622458]\n",
      "(1, 30)\n",
      "13 day output [[0.87065583]]\n",
      "14 day input [0.95619557 0.97794473 0.98861545 0.98182322 0.95627691 0.96100124\n",
      " 0.97458933 0.97341232 0.96512917 1.         0.99134904 0.98648214\n",
      " 0.99233747 0.99475531 0.9930883  0.98502024 0.92845565 0.92804027\n",
      " 0.9261207  0.9230848  0.91915542 0.91461766 0.90960252 0.90429169\n",
      " 0.89879739 0.89316297 0.88750619 0.88184577 0.87622458 0.87065583]\n",
      "(1, 30)\n",
      "14 day output [[0.86519533]]\n",
      "[[0.928455650806427], [0.9280402660369873], [0.9261206984519958], [0.9230847954750061], [0.9191554188728333], [0.914617657661438], [0.9096025228500366], [0.9042916893959045], [0.8987973928451538], [0.8931629657745361], [0.8875061869621277], [0.8818457722663879], [0.8762245774269104], [0.8706558346748352], [0.8651953339576721]]\n"
     ]
    }
   ],
   "source": [
    "x_input = test_data[201:].reshape(1,-1)\n",
    "temp_input=list(x_input)\n",
    "print(temp_input)\n",
    "temp_input=temp_input[0].tolist()\n",
    "print(temp_input)\n",
    "from numpy import array\n",
    "\n",
    "lst_output=[]\n",
    "n_steps=30\n",
    "i=0\n",
    "while(i<15):\n",
    "    \n",
    "    if(len(temp_input)>30):\n",
    "        #print(temp_input)\n",
    "        x_input=np.array(temp_input[1:])\n",
    "        print(\"{} day input {}\".format(i,x_input))\n",
    "        x_input=x_input.reshape(1,-1)\n",
    "        print(x_input.shape)\n",
    "        x_input = x_input.reshape((1, n_steps, 1))\n",
    "        #print(x_input)\n",
    "        yhat = model.predict(x_input, verbose=0)\n",
    "        print(\"{} day output {}\".format(i,yhat))\n",
    "        temp_input.extend(yhat[0].tolist())\n",
    "        temp_input=temp_input[1:]\n",
    "        #print(temp_input)\n",
    "        lst_output.extend(yhat.tolist())\n",
    "        i=i+1\n",
    "    else:\n",
    "        x_input = x_input.reshape((1, n_steps,1))\n",
    "        yhat = model.predict(x_input, verbose=0)\n",
    "        print(yhat[0])\n",
    "        temp_input.extend(yhat[0].tolist())\n",
    "        print(len(temp_input))\n",
    "        lst_output.extend(yhat.tolist())\n",
    "        i=i+1\n",
    "    \n",
    "\n",
    "print(lst_output)\n"
   ]
  },
  {
   "cell_type": "code",
   "execution_count": 35,
   "id": "0e85f8ca",
   "metadata": {},
   "outputs": [],
   "source": [
    "day_new=np.arange(1,31)\n",
    "day_pred=np.arange(31,36)"
   ]
  },
  {
   "cell_type": "code",
   "execution_count": 36,
   "id": "0600ab6d",
   "metadata": {},
   "outputs": [
    {
     "data": {
      "text/plain": [
       "[<matplotlib.lines.Line2D at 0x1329a364ac0>]"
      ]
     },
     "execution_count": 36,
     "metadata": {},
     "output_type": "execute_result"
    },
    {
     "data": {
      "image/png": "[encoded data removed]",
      "text/plain": [
       "<Figure size 640x480 with 1 Axes>"
      ]
     },
     "metadata": {},
     "output_type": "display_data"
    }
   ],
   "source": [
    "df3=df1.tolist()\n",
    "df3.extend(lst_output)\n",
    "plt.plot(df3[740:])"
   ]
  },
  {
   "cell_type": "code",
   "execution_count": 37,
   "id": "a7130437",
   "metadata": {},
   "outputs": [
    {
     "data": {
      "text/plain": [
       "[<matplotlib.lines.Line2D at 0x132a1c0fe80>]"
      ]
     },
     "execution_count": 37,
     "metadata": {},
     "output_type": "execute_result"
    },
    {
     "data": {
      "image/png": "[encoded data removed]",
      "text/plain": [
       "<Figure size 640x480 with 1 Axes>"
      ]
     },
     "metadata": {},
     "output_type": "display_data"
    }
   ],
   "source": [
    "df3=scaler.inverse_transform(df3).tolist()\n",
    "plt.plot(df3)"
   ]
  },
  {
   "cell_type": "code",
   "execution_count": null,
   "id": "5cd9eff9",
   "metadata": {},
   "outputs": [],
   "source": []
  }
 ],
 "metadata": {
  "kernelspec": {
   "display_name": "Python 3 (ipykernel)",
   "language": "python",
   "name": "python3"
  },
  "language_info": {
   "codemirror_mode": {
    "name": "ipython",
    "version": 3
   },
   "file_extension": ".py",
   "mimetype": "text/x-python",
   "name": "python",
   "nbconvert_exporter": "python",
   "pygments_lexer": "ipython3",
   "version": "3.9.12"
  }
 },
 "nbformat": 4,
 "nbformat_minor": 5
}

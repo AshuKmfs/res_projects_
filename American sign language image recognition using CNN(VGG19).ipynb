{
  "nbformat": 4,
  "nbformat_minor": 0,
  "metadata": {
    "colab": {
      "provenance": []
    },
    "kernelspec": {
      "name": "python3",
      "display_name": "Python 3"
    },
    "language_info": {
      "name": "python"
    },
    "gpuClass": "standard",
    "accelerator": "GPU"
  },
  "cells": [
    {
      "cell_type": "code",
      "source": [
        "!pip install opendatasets"
      ],
      "metadata": {
        "id": "_nIENYMJa9R_",
        "colab": {
          "base_uri": "https://localhost:8080/"
        },
        "outputId": "4d42569a-ce69-44fa-e716-b80e7211cfc6"
      },
      "execution_count": 1,
      "outputs": [
        {
          "output_type": "stream",
          "name": "stdout",
          "text": [
            "Looking in indexes: https://pypi.org/simple, https://us-python.pkg.dev/colab-wheels/public/simple/\n",
            "Requirement already satisfied: opendatasets in /usr/local/lib/python3.8/dist-packages (0.1.22)\n",
            "Requirement already satisfied: kaggle in /usr/local/lib/python3.8/dist-packages (from opendatasets) (1.5.12)\n",
            "Requirement already satisfied: tqdm in /usr/local/lib/python3.8/dist-packages (from opendatasets) (4.64.1)\n",
            "Requirement already satisfied: click in /usr/local/lib/python3.8/dist-packages (from opendatasets) (7.1.2)\n",
            "Requirement already satisfied: python-slugify in /usr/local/lib/python3.8/dist-packages (from kaggle->opendatasets) (7.0.0)\n",
            "Requirement already satisfied: requests in /usr/local/lib/python3.8/dist-packages (from kaggle->opendatasets) (2.25.1)\n",
            "Requirement already satisfied: certifi in /usr/local/lib/python3.8/dist-packages (from kaggle->opendatasets) (2022.12.7)\n",
            "Requirement already satisfied: urllib3 in /usr/local/lib/python3.8/dist-packages (from kaggle->opendatasets) (1.24.3)\n",
            "Requirement already satisfied: six>=1.10 in /usr/local/lib/python3.8/dist-packages (from kaggle->opendatasets) (1.15.0)\n",
            "Requirement already satisfied: python-dateutil in /usr/local/lib/python3.8/dist-packages (from kaggle->opendatasets) (2.8.2)\n",
            "Requirement already satisfied: text-unidecode>=1.3 in /usr/local/lib/python3.8/dist-packages (from python-slugify->kaggle->opendatasets) (1.3)\n",
            "Requirement already satisfied: chardet<5,>=3.0.2 in /usr/local/lib/python3.8/dist-packages (from requests->kaggle->opendatasets) (4.0.0)\n",
            "Requirement already satisfied: idna<3,>=2.5 in /usr/local/lib/python3.8/dist-packages (from requests->kaggle->opendatasets) (2.10)\n"
          ]
        }
      ]
    },
    {
      "cell_type": "code",
      "source": [
        "import opendatasets as od\n",
        "import pandas"
      ],
      "metadata": {
        "id": "w0Wkf-UaPCz4"
      },
      "execution_count": 2,
      "outputs": []
    },
    {
      "cell_type": "code",
      "source": [
        "od.download('https://www.kaggle.com/datasets/grassknoted/asl-alphabet')"
      ],
      "metadata": {
        "id": "Ay4ORs7gbT_K",
        "colab": {
          "base_uri": "https://localhost:8080/"
        },
        "outputId": "6d2fe328-c7b0-48c0-a8e6-4b25002964a6"
      },
      "execution_count": 3,
      "outputs": [
        {
          "output_type": "stream",
          "name": "stdout",
          "text": [
            "Skipping, found downloaded files in \"./asl-alphabet\" (use force=True to force download)\n"
          ]
        }
      ]
    },
    {
      "cell_type": "code",
      "source": [
        "import torch\n",
        "from torch import nn\n",
        "from pathlib import Path"
      ],
      "metadata": {
        "id": "5QNZJmAqP_bb"
      },
      "execution_count": 4,
      "outputs": []
    },
    {
      "cell_type": "code",
      "source": [
        "data_path = Path(\"asl-alphabet\")\n",
        "image_path = data_path"
      ],
      "metadata": {
        "id": "keR381qgQuSS"
      },
      "execution_count": 5,
      "outputs": []
    },
    {
      "cell_type": "code",
      "source": [
        "import os\n",
        "def walk_through_dir(dir_path):\n",
        "    for dirpath, dirnames, filenames in os.walk(dir_path):\n",
        "        print(f\"There are {len(dirnames)} directories and {len(filenames)} images in '{dirpath}'.\")"
      ],
      "metadata": {
        "id": "BiGm6pksQyUJ"
      },
      "execution_count": 6,
      "outputs": []
    },
    {
      "cell_type": "code",
      "source": [
        "walk_through_dir(image_path)"
      ],
      "metadata": {
        "id": "HZdtqKPDQ4HG",
        "colab": {
          "base_uri": "https://localhost:8080/"
        },
        "outputId": "000a8472-2d91-4080-b938-27138d5965c6"
      },
      "execution_count": 7,
      "outputs": [
        {
          "output_type": "stream",
          "name": "stdout",
          "text": [
            "There are 2 directories and 0 images in 'asl-alphabet'.\n",
            "There are 1 directories and 0 images in 'asl-alphabet/asl_alphabet_train'.\n",
            "There are 29 directories and 0 images in 'asl-alphabet/asl_alphabet_train/asl_alphabet_train'.\n",
            "There are 0 directories and 3000 images in 'asl-alphabet/asl_alphabet_train/asl_alphabet_train/E'.\n",
            "There are 0 directories and 3000 images in 'asl-alphabet/asl_alphabet_train/asl_alphabet_train/H'.\n",
            "There are 0 directories and 3000 images in 'asl-alphabet/asl_alphabet_train/asl_alphabet_train/I'.\n",
            "There are 0 directories and 3000 images in 'asl-alphabet/asl_alphabet_train/asl_alphabet_train/M'.\n",
            "There are 0 directories and 3000 images in 'asl-alphabet/asl_alphabet_train/asl_alphabet_train/S'.\n",
            "There are 0 directories and 3000 images in 'asl-alphabet/asl_alphabet_train/asl_alphabet_train/Y'.\n",
            "There are 0 directories and 3000 images in 'asl-alphabet/asl_alphabet_train/asl_alphabet_train/J'.\n",
            "There are 0 directories and 3000 images in 'asl-alphabet/asl_alphabet_train/asl_alphabet_train/Z'.\n",
            "There are 0 directories and 3000 images in 'asl-alphabet/asl_alphabet_train/asl_alphabet_train/W'.\n",
            "There are 0 directories and 3000 images in 'asl-alphabet/asl_alphabet_train/asl_alphabet_train/G'.\n",
            "There are 0 directories and 3000 images in 'asl-alphabet/asl_alphabet_train/asl_alphabet_train/N'.\n",
            "There are 0 directories and 3000 images in 'asl-alphabet/asl_alphabet_train/asl_alphabet_train/del'.\n",
            "There are 0 directories and 3000 images in 'asl-alphabet/asl_alphabet_train/asl_alphabet_train/Q'.\n",
            "There are 0 directories and 3000 images in 'asl-alphabet/asl_alphabet_train/asl_alphabet_train/B'.\n",
            "There are 0 directories and 3000 images in 'asl-alphabet/asl_alphabet_train/asl_alphabet_train/L'.\n",
            "There are 0 directories and 3000 images in 'asl-alphabet/asl_alphabet_train/asl_alphabet_train/C'.\n",
            "There are 0 directories and 3000 images in 'asl-alphabet/asl_alphabet_train/asl_alphabet_train/A'.\n",
            "There are 0 directories and 3000 images in 'asl-alphabet/asl_alphabet_train/asl_alphabet_train/nothing'.\n",
            "There are 0 directories and 3000 images in 'asl-alphabet/asl_alphabet_train/asl_alphabet_train/R'.\n",
            "There are 0 directories and 3000 images in 'asl-alphabet/asl_alphabet_train/asl_alphabet_train/T'.\n",
            "There are 0 directories and 3000 images in 'asl-alphabet/asl_alphabet_train/asl_alphabet_train/U'.\n",
            "There are 0 directories and 3000 images in 'asl-alphabet/asl_alphabet_train/asl_alphabet_train/K'.\n",
            "There are 0 directories and 3000 images in 'asl-alphabet/asl_alphabet_train/asl_alphabet_train/X'.\n",
            "There are 0 directories and 3000 images in 'asl-alphabet/asl_alphabet_train/asl_alphabet_train/F'.\n",
            "There are 0 directories and 3000 images in 'asl-alphabet/asl_alphabet_train/asl_alphabet_train/O'.\n",
            "There are 0 directories and 3000 images in 'asl-alphabet/asl_alphabet_train/asl_alphabet_train/P'.\n",
            "There are 0 directories and 3000 images in 'asl-alphabet/asl_alphabet_train/asl_alphabet_train/V'.\n",
            "There are 0 directories and 3000 images in 'asl-alphabet/asl_alphabet_train/asl_alphabet_train/space'.\n",
            "There are 0 directories and 3000 images in 'asl-alphabet/asl_alphabet_train/asl_alphabet_train/D'.\n",
            "There are 1 directories and 0 images in 'asl-alphabet/asl_alphabet_test'.\n",
            "There are 0 directories and 28 images in 'asl-alphabet/asl_alphabet_test/asl_alphabet_test'.\n"
          ]
        }
      ]
    },
    {
      "cell_type": "code",
      "source": [
        "train_dir = image_path/'asl_alphabet_train'/'asl_alphabet_train'\n",
        "test_dir = image_path/'asl_alphabet_test'\n",
        "train_dir, test_dir"
      ],
      "metadata": {
        "id": "8ji9gYgdTGoZ",
        "colab": {
          "base_uri": "https://localhost:8080/"
        },
        "outputId": "b473da01-66d7-44ba-ed0e-1d0f90ed9e11"
      },
      "execution_count": 8,
      "outputs": [
        {
          "output_type": "execute_result",
          "data": {
            "text/plain": [
              "(PosixPath('asl-alphabet/asl_alphabet_train/asl_alphabet_train'),\n",
              " PosixPath('asl-alphabet/asl_alphabet_test'))"
            ]
          },
          "metadata": {},
          "execution_count": 8
        }
      ]
    },
    {
      "cell_type": "code",
      "source": [
        "import torch\n",
        "from torch.utils.data import DataLoader\n",
        "from torchvision import datasets, transforms"
      ],
      "metadata": {
        "id": "vDhPjJ_wR5Bx"
      },
      "execution_count": 9,
      "outputs": []
    },
    {
      "cell_type": "code",
      "source": [
        "train_transform = transforms.Compose([\n",
        "    transforms.Resize(size=(128,128)),\n",
        "    transforms.RandomHorizontalFlip(p=0.5),\n",
        "    transforms.ToTensor(),\n",
        "    transforms.Normalize(mean=[0.485, 0.456, 0.406],\n",
        "                         std=[0.229, 0.224, 0.225])\n",
        "])\n",
        "\n",
        "test_transform = transforms.Compose([\n",
        "    transforms.Resize(size=(128,128)),\n",
        "    transforms.ToTensor(),\n",
        "    transforms.Normalize(mean=[0.485, 0.456, 0.406],\n",
        "                         std=[0.229, 0.224, 0.225])\n",
        "])"
      ],
      "metadata": {
        "id": "CY630X1fS3fB"
      },
      "execution_count": 10,
      "outputs": []
    },
    {
      "cell_type": "code",
      "source": [
        "train_dataset = datasets.ImageFolder(train_dir, transform=train_transform)"
      ],
      "metadata": {
        "id": "JEz9SPDnS7SK"
      },
      "execution_count": 11,
      "outputs": []
    },
    {
      "cell_type": "code",
      "source": [
        "train_dataset"
      ],
      "metadata": {
        "id": "w2wQ_sR-S7bg",
        "colab": {
          "base_uri": "https://localhost:8080/"
        },
        "outputId": "aea5d1fd-59c9-41ae-fa7b-585acb144b56"
      },
      "execution_count": 12,
      "outputs": [
        {
          "output_type": "execute_result",
          "data": {
            "text/plain": [
              "Dataset ImageFolder\n",
              "    Number of datapoints: 87000\n",
              "    Root location: asl-alphabet/asl_alphabet_train/asl_alphabet_train\n",
              "    StandardTransform\n",
              "Transform: Compose(\n",
              "               Resize(size=(128, 128), interpolation=bilinear, max_size=None, antialias=None)\n",
              "               RandomHorizontalFlip(p=0.5)\n",
              "               ToTensor()\n",
              "               Normalize(mean=[0.485, 0.456, 0.406], std=[0.229, 0.224, 0.225])\n",
              "           )"
            ]
          },
          "metadata": {},
          "execution_count": 12
        }
      ]
    },
    {
      "cell_type": "code",
      "source": [
        "val_dataset = datasets.ImageFolder(train_dir, transform=test_transform)"
      ],
      "metadata": {
        "id": "RhAmqfWQS7jT"
      },
      "execution_count": 13,
      "outputs": []
    },
    {
      "cell_type": "code",
      "source": [
        "train_dataset.classes"
      ],
      "metadata": {
        "id": "QFFcej_rSXQJ",
        "colab": {
          "base_uri": "https://localhost:8080/"
        },
        "outputId": "90134a3e-1262-4dd6-9575-f32837b7d093"
      },
      "execution_count": 14,
      "outputs": [
        {
          "output_type": "execute_result",
          "data": {
            "text/plain": [
              "['A',\n",
              " 'B',\n",
              " 'C',\n",
              " 'D',\n",
              " 'E',\n",
              " 'F',\n",
              " 'G',\n",
              " 'H',\n",
              " 'I',\n",
              " 'J',\n",
              " 'K',\n",
              " 'L',\n",
              " 'M',\n",
              " 'N',\n",
              " 'O',\n",
              " 'P',\n",
              " 'Q',\n",
              " 'R',\n",
              " 'S',\n",
              " 'T',\n",
              " 'U',\n",
              " 'V',\n",
              " 'W',\n",
              " 'X',\n",
              " 'Y',\n",
              " 'Z',\n",
              " 'del',\n",
              " 'nothing',\n",
              " 'space']"
            ]
          },
          "metadata": {},
          "execution_count": 14
        }
      ]
    },
    {
      "cell_type": "code",
      "source": [
        "torch.manual_seed(9)\n",
        "num_train_samples = len(train_dataset)\n",
        "split = int(num_train_samples*0.25)\n",
        "indices = torch.randperm(num_train_samples)\n",
        "train_dataset = torch.utils.data.Subset(train_dataset,indices[split:])\n",
        "val_dataset = torch.utils.data.Subset(val_dataset,indices[:split])\n",
        "len(train_dataset),len(val_dataset)"
      ],
      "metadata": {
        "id": "Xh4po4A8XSdc",
        "colab": {
          "base_uri": "https://localhost:8080/"
        },
        "outputId": "d7a64794-2371-4003-a6a5-21d0fb47a440"
      },
      "execution_count": 15,
      "outputs": [
        {
          "output_type": "execute_result",
          "data": {
            "text/plain": [
              "(65250, 21750)"
            ]
          },
          "metadata": {},
          "execution_count": 15
        }
      ]
    },
    {
      "cell_type": "code",
      "source": [
        "train_dataloader = torch.utils.data.DataLoader(\n",
        "    dataset=train_dataset,batch_size=64,shuffle=True,num_workers=2\n",
        ")\n",
        "val_dataloader = torch.utils.data.DataLoader(\n",
        "    dataset=val_dataset,batch_size=64,shuffle=False,num_workers=2\n",
        ")"
      ],
      "metadata": {
        "id": "5sUMfOgEYcTL"
      },
      "execution_count": 16,
      "outputs": []
    },
    {
      "cell_type": "code",
      "source": [
        "classes = train_dataloader.dataset.dataset.classes\n",
        "len(classes)"
      ],
      "metadata": {
        "id": "wb8lTf8fb67Z",
        "colab": {
          "base_uri": "https://localhost:8080/"
        },
        "outputId": "66355230-1781-45ba-f31d-507964142936"
      },
      "execution_count": 17,
      "outputs": [
        {
          "output_type": "execute_result",
          "data": {
            "text/plain": [
              "29"
            ]
          },
          "metadata": {},
          "execution_count": 17
        }
      ]
    },
    {
      "cell_type": "code",
      "source": [
        "import matplotlib.pyplot as plt\n",
        "for img, label in train_dataloader:\n",
        "    print('Ground truth', classes[label[0]])\n",
        "    plt.imshow(img[0].permute(1, 2, 0))\n",
        "    plt.show()\n",
        "    break"
      ],
      "metadata": {
        "id": "G3GV3xYNgHzG",
        "colab": {
          "base_uri": "https://localhost:8080/",
          "height": 303
        },
        "outputId": "6212aaf7-4332-41f8-f008-93d08fecd093"
      },
      "execution_count": 18,
      "outputs": [
        {
          "output_type": "stream",
          "name": "stderr",
          "text": [
            "WARNING:matplotlib.image:Clipping input data to the valid range for imshow with RGB data ([0..1] for floats or [0..255] for integers).\n"
          ]
        },
        {
          "output_type": "stream",
          "name": "stdout",
          "text": [
            "Ground truth del\n"
          ]
        },
        {
          "output_type": "display_data",
          "data": {
            "text/plain": [
              "<Figure size 432x288 with 1 Axes>"
            ],
            "image/png": "[encoded data removed]"
          },
          "metadata": {
            "needs_background": "light"
          }
        }
      ]
    },
    {
      "cell_type": "code",
      "source": [
        "device = torch.device('cuda' if torch.cuda.is_available() else 'cpu')\n",
        "device"
      ],
      "metadata": {
        "id": "KRf0mYaHgb99",
        "colab": {
          "base_uri": "https://localhost:8080/"
        },
        "outputId": "8c3d106e-a83a-4733-e75b-97d36f7cda90"
      },
      "execution_count": 19,
      "outputs": [
        {
          "output_type": "execute_result",
          "data": {
            "text/plain": [
              "device(type='cuda')"
            ]
          },
          "metadata": {},
          "execution_count": 19
        }
      ]
    },
    {
      "cell_type": "code",
      "source": [
        "import torchvision\n",
        "from torchvision import models, transforms, datasets"
      ],
      "metadata": {
        "id": "QubxDi25gcEs"
      },
      "execution_count": 20,
      "outputs": []
    },
    {
      "cell_type": "code",
      "source": [
        "\n",
        "model = torchvision.models.efficientnet_b0(pretrained=True).to(device)"
      ],
      "metadata": {
        "id": "ds-IPT14gcJs",
        "colab": {
          "base_uri": "https://localhost:8080/"
        },
        "outputId": "c50a481e-7425-4f5d-9d66-6c058f01df83"
      },
      "execution_count": 21,
      "outputs": [
        {
          "output_type": "stream",
          "name": "stderr",
          "text": [
            "/usr/local/lib/python3.8/dist-packages/torchvision/models/_utils.py:208: UserWarning: The parameter 'pretrained' is deprecated since 0.13 and may be removed in the future, please use 'weights' instead.\n",
            "  warnings.warn(\n",
            "/usr/local/lib/python3.8/dist-packages/torchvision/models/_utils.py:223: UserWarning: Arguments other than a weight enum or `None` for 'weights' are deprecated since 0.13 and may be removed in the future. The current behavior is equivalent to passing `weights=EfficientNet_B0_Weights.IMAGENET1K_V1`. You can also use `weights=EfficientNet_B0_Weights.DEFAULT` to get the most up-to-date weights.\n",
            "  warnings.warn(msg)\n"
          ]
        }
      ]
    },
    {
      "cell_type": "code",
      "source": [
        "for param in model.features.parameters():\n",
        "    param.requires_grad = False"
      ],
      "metadata": {
        "id": "UMZ6ssJHgcM-"
      },
      "execution_count": 22,
      "outputs": []
    },
    {
      "cell_type": "code",
      "source": [
        "#Recreate the classifier layer\n",
        "torch.manual_seed(42)\n",
        "output_shape = len(classes)\n",
        "model.classifier = torch.nn.Sequential(\n",
        "torch.nn.Dropout(p=0.2, inplace=True),\n",
        "torch.nn.Linear(in_features=1280,\n",
        "               out_features=output_shape,\n",
        "               bias=True)).to(device)"
      ],
      "metadata": {
        "id": "M0cB9iBeh1q6"
      },
      "execution_count": 23,
      "outputs": []
    },
    {
      "cell_type": "code",
      "source": [
        "model # output classes has changed to 29"
      ],
      "metadata": {
        "id": "izYUz1GJh1tg",
        "colab": {
          "base_uri": "https://localhost:8080/"
        },
        "outputId": "a433dd87-e3e4-4f14-aa3b-0e0c90d81807"
      },
      "execution_count": 24,
      "outputs": [
        {
          "output_type": "execute_result",
          "data": {
            "text/plain": [
              "EfficientNet(\n",
              "  (features): Sequential(\n",
              "    (0): Conv2dNormActivation(\n",
              "      (0): Conv2d(3, 32, kernel_size=(3, 3), stride=(2, 2), padding=(1, 1), bias=False)\n",
              "      (1): BatchNorm2d(32, eps=1e-05, momentum=0.1, affine=True, track_running_stats=True)\n",
              "      (2): SiLU(inplace=True)\n",
              "    )\n",
              "    (1): Sequential(\n",
              "      (0): MBConv(\n",
              "        (block): Sequential(\n",
              "          (0): Conv2dNormActivation(\n",
              "            (0): Conv2d(32, 32, kernel_size=(3, 3), stride=(1, 1), padding=(1, 1), groups=32, bias=False)\n",
              "            (1): BatchNorm2d(32, eps=1e-05, momentum=0.1, affine=True, track_running_stats=True)\n",
              "            (2): SiLU(inplace=True)\n",
              "          )\n",
              "          (1): SqueezeExcitation(\n",
              "            (avgpool): AdaptiveAvgPool2d(output_size=1)\n",
              "            (fc1): Conv2d(32, 8, kernel_size=(1, 1), stride=(1, 1))\n",
              "            (fc2): Conv2d(8, 32, kernel_size=(1, 1), stride=(1, 1))\n",
              "            (activation): SiLU(inplace=True)\n",
              "            (scale_activation): Sigmoid()\n",
              "          )\n",
              "          (2): Conv2dNormActivation(\n",
              "            (0): Conv2d(32, 16, kernel_size=(1, 1), stride=(1, 1), bias=False)\n",
              "            (1): BatchNorm2d(16, eps=1e-05, momentum=0.1, affine=True, track_running_stats=True)\n",
              "          )\n",
              "        )\n",
              "        (stochastic_depth): StochasticDepth(p=0.0, mode=row)\n",
              "      )\n",
              "    )\n",
              "    (2): Sequential(\n",
              "      (0): MBConv(\n",
              "        (block): Sequential(\n",
              "          (0): Conv2dNormActivation(\n",
              "            (0): Conv2d(16, 96, kernel_size=(1, 1), stride=(1, 1), bias=False)\n",
              "            (1): BatchNorm2d(96, eps=1e-05, momentum=0.1, affine=True, track_running_stats=True)\n",
              "            (2): SiLU(inplace=True)\n",
              "          )\n",
              "          (1): Conv2dNormActivation(\n",
              "            (0): Conv2d(96, 96, kernel_size=(3, 3), stride=(2, 2), padding=(1, 1), groups=96, bias=False)\n",
              "            (1): BatchNorm2d(96, eps=1e-05, momentum=0.1, affine=True, track_running_stats=True)\n",
              "            (2): SiLU(inplace=True)\n",
              "          )\n",
              "          (2): SqueezeExcitation(\n",
              "            (avgpool): AdaptiveAvgPool2d(output_size=1)\n",
              "            (fc1): Conv2d(96, 4, kernel_size=(1, 1), stride=(1, 1))\n",
              "            (fc2): Conv2d(4, 96, kernel_size=(1, 1), stride=(1, 1))\n",
              "            (activation): SiLU(inplace=True)\n",
              "            (scale_activation): Sigmoid()\n",
              "          )\n",
              "          (3): Conv2dNormActivation(\n",
              "            (0): Conv2d(96, 24, kernel_size=(1, 1), stride=(1, 1), bias=False)\n",
              "            (1): BatchNorm2d(24, eps=1e-05, momentum=0.1, affine=True, track_running_stats=True)\n",
              "          )\n",
              "        )\n",
              "        (stochastic_depth): StochasticDepth(p=0.0125, mode=row)\n",
              "      )\n",
              "      (1): MBConv(\n",
              "        (block): Sequential(\n",
              "          (0): Conv2dNormActivation(\n",
              "            (0): Conv2d(24, 144, kernel_size=(1, 1), stride=(1, 1), bias=False)\n",
              "            (1): BatchNorm2d(144, eps=1e-05, momentum=0.1, affine=True, track_running_stats=True)\n",
              "            (2): SiLU(inplace=True)\n",
              "          )\n",
              "          (1): Conv2dNormActivation(\n",
              "            (0): Conv2d(144, 144, kernel_size=(3, 3), stride=(1, 1), padding=(1, 1), groups=144, bias=False)\n",
              "            (1): BatchNorm2d(144, eps=1e-05, momentum=0.1, affine=True, track_running_stats=True)\n",
              "            (2): SiLU(inplace=True)\n",
              "          )\n",
              "          (2): SqueezeExcitation(\n",
              "            (avgpool): AdaptiveAvgPool2d(output_size=1)\n",
              "            (fc1): Conv2d(144, 6, kernel_size=(1, 1), stride=(1, 1))\n",
              "            (fc2): Conv2d(6, 144, kernel_size=(1, 1), stride=(1, 1))\n",
              "            (activation): SiLU(inplace=True)\n",
              "            (scale_activation): Sigmoid()\n",
              "          )\n",
              "          (3): Conv2dNormActivation(\n",
              "            (0): Conv2d(144, 24, kernel_size=(1, 1), stride=(1, 1), bias=False)\n",
              "            (1): BatchNorm2d(24, eps=1e-05, momentum=0.1, affine=True, track_running_stats=True)\n",
              "          )\n",
              "        )\n",
              "        (stochastic_depth): StochasticDepth(p=0.025, mode=row)\n",
              "      )\n",
              "    )\n",
              "    (3): Sequential(\n",
              "      (0): MBConv(\n",
              "        (block): Sequential(\n",
              "          (0): Conv2dNormActivation(\n",
              "            (0): Conv2d(24, 144, kernel_size=(1, 1), stride=(1, 1), bias=False)\n",
              "            (1): BatchNorm2d(144, eps=1e-05, momentum=0.1, affine=True, track_running_stats=True)\n",
              "            (2): SiLU(inplace=True)\n",
              "          )\n",
              "          (1): Conv2dNormActivation(\n",
              "            (0): Conv2d(144, 144, kernel_size=(5, 5), stride=(2, 2), padding=(2, 2), groups=144, bias=False)\n",
              "            (1): BatchNorm2d(144, eps=1e-05, momentum=0.1, affine=True, track_running_stats=True)\n",
              "            (2): SiLU(inplace=True)\n",
              "          )\n",
              "          (2): SqueezeExcitation(\n",
              "            (avgpool): AdaptiveAvgPool2d(output_size=1)\n",
              "            (fc1): Conv2d(144, 6, kernel_size=(1, 1), stride=(1, 1))\n",
              "            (fc2): Conv2d(6, 144, kernel_size=(1, 1), stride=(1, 1))\n",
              "            (activation): SiLU(inplace=True)\n",
              "            (scale_activation): Sigmoid()\n",
              "          )\n",
              "          (3): Conv2dNormActivation(\n",
              "            (0): Conv2d(144, 40, kernel_size=(1, 1), stride=(1, 1), bias=False)\n",
              "            (1): BatchNorm2d(40, eps=1e-05, momentum=0.1, affine=True, track_running_stats=True)\n",
              "          )\n",
              "        )\n",
              "        (stochastic_depth): StochasticDepth(p=0.037500000000000006, mode=row)\n",
              "      )\n",
              "      (1): MBConv(\n",
              "        (block): Sequential(\n",
              "          (0): Conv2dNormActivation(\n",
              "            (0): Conv2d(40, 240, kernel_size=(1, 1), stride=(1, 1), bias=False)\n",
              "            (1): BatchNorm2d(240, eps=1e-05, momentum=0.1, affine=True, track_running_stats=True)\n",
              "            (2): SiLU(inplace=True)\n",
              "          )\n",
              "          (1): Conv2dNormActivation(\n",
              "            (0): Conv2d(240, 240, kernel_size=(5, 5), stride=(1, 1), padding=(2, 2), groups=240, bias=False)\n",
              "            (1): BatchNorm2d(240, eps=1e-05, momentum=0.1, affine=True, track_running_stats=True)\n",
              "            (2): SiLU(inplace=True)\n",
              "          )\n",
              "          (2): SqueezeExcitation(\n",
              "            (avgpool): AdaptiveAvgPool2d(output_size=1)\n",
              "            (fc1): Conv2d(240, 10, kernel_size=(1, 1), stride=(1, 1))\n",
              "            (fc2): Conv2d(10, 240, kernel_size=(1, 1), stride=(1, 1))\n",
              "            (activation): SiLU(inplace=True)\n",
              "            (scale_activation): Sigmoid()\n",
              "          )\n",
              "          (3): Conv2dNormActivation(\n",
              "            (0): Conv2d(240, 40, kernel_size=(1, 1), stride=(1, 1), bias=False)\n",
              "            (1): BatchNorm2d(40, eps=1e-05, momentum=0.1, affine=True, track_running_stats=True)\n",
              "          )\n",
              "        )\n",
              "        (stochastic_depth): StochasticDepth(p=0.05, mode=row)\n",
              "      )\n",
              "    )\n",
              "    (4): Sequential(\n",
              "      (0): MBConv(\n",
              "        (block): Sequential(\n",
              "          (0): Conv2dNormActivation(\n",
              "            (0): Conv2d(40, 240, kernel_size=(1, 1), stride=(1, 1), bias=False)\n",
              "            (1): BatchNorm2d(240, eps=1e-05, momentum=0.1, affine=True, track_running_stats=True)\n",
              "            (2): SiLU(inplace=True)\n",
              "          )\n",
              "          (1): Conv2dNormActivation(\n",
              "            (0): Conv2d(240, 240, kernel_size=(3, 3), stride=(2, 2), padding=(1, 1), groups=240, bias=False)\n",
              "            (1): BatchNorm2d(240, eps=1e-05, momentum=0.1, affine=True, track_running_stats=True)\n",
              "            (2): SiLU(inplace=True)\n",
              "          )\n",
              "          (2): SqueezeExcitation(\n",
              "            (avgpool): AdaptiveAvgPool2d(output_size=1)\n",
              "            (fc1): Conv2d(240, 10, kernel_size=(1, 1), stride=(1, 1))\n",
              "            (fc2): Conv2d(10, 240, kernel_size=(1, 1), stride=(1, 1))\n",
              "            (activation): SiLU(inplace=True)\n",
              "            (scale_activation): Sigmoid()\n",
              "          )\n",
              "          (3): Conv2dNormActivation(\n",
              "            (0): Conv2d(240, 80, kernel_size=(1, 1), stride=(1, 1), bias=False)\n",
              "            (1): BatchNorm2d(80, eps=1e-05, momentum=0.1, affine=True, track_running_stats=True)\n",
              "          )\n",
              "        )\n",
              "        (stochastic_depth): StochasticDepth(p=0.0625, mode=row)\n",
              "      )\n",
              "      (1): MBConv(\n",
              "        (block): Sequential(\n",
              "          (0): Conv2dNormActivation(\n",
              "            (0): Conv2d(80, 480, kernel_size=(1, 1), stride=(1, 1), bias=False)\n",
              "            (1): BatchNorm2d(480, eps=1e-05, momentum=0.1, affine=True, track_running_stats=True)\n",
              "            (2): SiLU(inplace=True)\n",
              "          )\n",
              "          (1): Conv2dNormActivation(\n",
              "            (0): Conv2d(480, 480, kernel_size=(3, 3), stride=(1, 1), padding=(1, 1), groups=480, bias=False)\n",
              "            (1): BatchNorm2d(480, eps=1e-05, momentum=0.1, affine=True, track_running_stats=True)\n",
              "            (2): SiLU(inplace=True)\n",
              "          )\n",
              "          (2): SqueezeExcitation(\n",
              "            (avgpool): AdaptiveAvgPool2d(output_size=1)\n",
              "            (fc1): Conv2d(480, 20, kernel_size=(1, 1), stride=(1, 1))\n",
              "            (fc2): Conv2d(20, 480, kernel_size=(1, 1), stride=(1, 1))\n",
              "            (activation): SiLU(inplace=True)\n",
              "            (scale_activation): Sigmoid()\n",
              "          )\n",
              "          (3): Conv2dNormActivation(\n",
              "            (0): Conv2d(480, 80, kernel_size=(1, 1), stride=(1, 1), bias=False)\n",
              "            (1): BatchNorm2d(80, eps=1e-05, momentum=0.1, affine=True, track_running_stats=True)\n",
              "          )\n",
              "        )\n",
              "        (stochastic_depth): StochasticDepth(p=0.07500000000000001, mode=row)\n",
              "      )\n",
              "      (2): MBConv(\n",
              "        (block): Sequential(\n",
              "          (0): Conv2dNormActivation(\n",
              "            (0): Conv2d(80, 480, kernel_size=(1, 1), stride=(1, 1), bias=False)\n",
              "            (1): BatchNorm2d(480, eps=1e-05, momentum=0.1, affine=True, track_running_stats=True)\n",
              "            (2): SiLU(inplace=True)\n",
              "          )\n",
              "          (1): Conv2dNormActivation(\n",
              "            (0): Conv2d(480, 480, kernel_size=(3, 3), stride=(1, 1), padding=(1, 1), groups=480, bias=False)\n",
              "            (1): BatchNorm2d(480, eps=1e-05, momentum=0.1, affine=True, track_running_stats=True)\n",
              "            (2): SiLU(inplace=True)\n",
              "          )\n",
              "          (2): SqueezeExcitation(\n",
              "            (avgpool): AdaptiveAvgPool2d(output_size=1)\n",
              "            (fc1): Conv2d(480, 20, kernel_size=(1, 1), stride=(1, 1))\n",
              "            (fc2): Conv2d(20, 480, kernel_size=(1, 1), stride=(1, 1))\n",
              "            (activation): SiLU(inplace=True)\n",
              "            (scale_activation): Sigmoid()\n",
              "          )\n",
              "          (3): Conv2dNormActivation(\n",
              "            (0): Conv2d(480, 80, kernel_size=(1, 1), stride=(1, 1), bias=False)\n",
              "            (1): BatchNorm2d(80, eps=1e-05, momentum=0.1, affine=True, track_running_stats=True)\n",
              "          )\n",
              "        )\n",
              "        (stochastic_depth): StochasticDepth(p=0.08750000000000001, mode=row)\n",
              "      )\n",
              "    )\n",
              "    (5): Sequential(\n",
              "      (0): MBConv(\n",
              "        (block): Sequential(\n",
              "          (0): Conv2dNormActivation(\n",
              "            (0): Conv2d(80, 480, kernel_size=(1, 1), stride=(1, 1), bias=False)\n",
              "            (1): BatchNorm2d(480, eps=1e-05, momentum=0.1, affine=True, track_running_stats=True)\n",
              "            (2): SiLU(inplace=True)\n",
              "          )\n",
              "          (1): Conv2dNormActivation(\n",
              "            (0): Conv2d(480, 480, kernel_size=(5, 5), stride=(1, 1), padding=(2, 2), groups=480, bias=False)\n",
              "            (1): BatchNorm2d(480, eps=1e-05, momentum=0.1, affine=True, track_running_stats=True)\n",
              "            (2): SiLU(inplace=True)\n",
              "          )\n",
              "          (2): SqueezeExcitation(\n",
              "            (avgpool): AdaptiveAvgPool2d(output_size=1)\n",
              "            (fc1): Conv2d(480, 20, kernel_size=(1, 1), stride=(1, 1))\n",
              "            (fc2): Conv2d(20, 480, kernel_size=(1, 1), stride=(1, 1))\n",
              "            (activation): SiLU(inplace=True)\n",
              "            (scale_activation): Sigmoid()\n",
              "          )\n",
              "          (3): Conv2dNormActivation(\n",
              "            (0): Conv2d(480, 112, kernel_size=(1, 1), stride=(1, 1), bias=False)\n",
              "            (1): BatchNorm2d(112, eps=1e-05, momentum=0.1, affine=True, track_running_stats=True)\n",
              "          )\n",
              "        )\n",
              "        (stochastic_depth): StochasticDepth(p=0.1, mode=row)\n",
              "      )\n",
              "      (1): MBConv(\n",
              "        (block): Sequential(\n",
              "          (0): Conv2dNormActivation(\n",
              "            (0): Conv2d(112, 672, kernel_size=(1, 1), stride=(1, 1), bias=False)\n",
              "            (1): BatchNorm2d(672, eps=1e-05, momentum=0.1, affine=True, track_running_stats=True)\n",
              "            (2): SiLU(inplace=True)\n",
              "          )\n",
              "          (1): Conv2dNormActivation(\n",
              "            (0): Conv2d(672, 672, kernel_size=(5, 5), stride=(1, 1), padding=(2, 2), groups=672, bias=False)\n",
              "            (1): BatchNorm2d(672, eps=1e-05, momentum=0.1, affine=True, track_running_stats=True)\n",
              "            (2): SiLU(inplace=True)\n",
              "          )\n",
              "          (2): SqueezeExcitation(\n",
              "            (avgpool): AdaptiveAvgPool2d(output_size=1)\n",
              "            (fc1): Conv2d(672, 28, kernel_size=(1, 1), stride=(1, 1))\n",
              "            (fc2): Conv2d(28, 672, kernel_size=(1, 1), stride=(1, 1))\n",
              "            (activation): SiLU(inplace=True)\n",
              "            (scale_activation): Sigmoid()\n",
              "          )\n",
              "          (3): Conv2dNormActivation(\n",
              "            (0): Conv2d(672, 112, kernel_size=(1, 1), stride=(1, 1), bias=False)\n",
              "            (1): BatchNorm2d(112, eps=1e-05, momentum=0.1, affine=True, track_running_stats=True)\n",
              "          )\n",
              "        )\n",
              "        (stochastic_depth): StochasticDepth(p=0.1125, mode=row)\n",
              "      )\n",
              "      (2): MBConv(\n",
              "        (block): Sequential(\n",
              "          (0): Conv2dNormActivation(\n",
              "            (0): Conv2d(112, 672, kernel_size=(1, 1), stride=(1, 1), bias=False)\n",
              "            (1): BatchNorm2d(672, eps=1e-05, momentum=0.1, affine=True, track_running_stats=True)\n",
              "            (2): SiLU(inplace=True)\n",
              "          )\n",
              "          (1): Conv2dNormActivation(\n",
              "            (0): Conv2d(672, 672, kernel_size=(5, 5), stride=(1, 1), padding=(2, 2), groups=672, bias=False)\n",
              "            (1): BatchNorm2d(672, eps=1e-05, momentum=0.1, affine=True, track_running_stats=True)\n",
              "            (2): SiLU(inplace=True)\n",
              "          )\n",
              "          (2): SqueezeExcitation(\n",
              "            (avgpool): AdaptiveAvgPool2d(output_size=1)\n",
              "            (fc1): Conv2d(672, 28, kernel_size=(1, 1), stride=(1, 1))\n",
              "            (fc2): Conv2d(28, 672, kernel_size=(1, 1), stride=(1, 1))\n",
              "            (activation): SiLU(inplace=True)\n",
              "            (scale_activation): Sigmoid()\n",
              "          )\n",
              "          (3): Conv2dNormActivation(\n",
              "            (0): Conv2d(672, 112, kernel_size=(1, 1), stride=(1, 1), bias=False)\n",
              "            (1): BatchNorm2d(112, eps=1e-05, momentum=0.1, affine=True, track_running_stats=True)\n",
              "          )\n",
              "        )\n",
              "        (stochastic_depth): StochasticDepth(p=0.125, mode=row)\n",
              "      )\n",
              "    )\n",
              "    (6): Sequential(\n",
              "      (0): MBConv(\n",
              "        (block): Sequential(\n",
              "          (0): Conv2dNormActivation(\n",
              "            (0): Conv2d(112, 672, kernel_size=(1, 1), stride=(1, 1), bias=False)\n",
              "            (1): BatchNorm2d(672, eps=1e-05, momentum=0.1, affine=True, track_running_stats=True)\n",
              "            (2): SiLU(inplace=True)\n",
              "          )\n",
              "          (1): Conv2dNormActivation(\n",
              "            (0): Conv2d(672, 672, kernel_size=(5, 5), stride=(2, 2), padding=(2, 2), groups=672, bias=False)\n",
              "            (1): BatchNorm2d(672, eps=1e-05, momentum=0.1, affine=True, track_running_stats=True)\n",
              "            (2): SiLU(inplace=True)\n",
              "          )\n",
              "          (2): SqueezeExcitation(\n",
              "            (avgpool): AdaptiveAvgPool2d(output_size=1)\n",
              "            (fc1): Conv2d(672, 28, kernel_size=(1, 1), stride=(1, 1))\n",
              "            (fc2): Conv2d(28, 672, kernel_size=(1, 1), stride=(1, 1))\n",
              "            (activation): SiLU(inplace=True)\n",
              "            (scale_activation): Sigmoid()\n",
              "          )\n",
              "          (3): Conv2dNormActivation(\n",
              "            (0): Conv2d(672, 192, kernel_size=(1, 1), stride=(1, 1), bias=False)\n",
              "            (1): BatchNorm2d(192, eps=1e-05, momentum=0.1, affine=True, track_running_stats=True)\n",
              "          )\n",
              "        )\n",
              "        (stochastic_depth): StochasticDepth(p=0.1375, mode=row)\n",
              "      )\n",
              "      (1): MBConv(\n",
              "        (block): Sequential(\n",
              "          (0): Conv2dNormActivation(\n",
              "            (0): Conv2d(192, 1152, kernel_size=(1, 1), stride=(1, 1), bias=False)\n",
              "            (1): BatchNorm2d(1152, eps=1e-05, momentum=0.1, affine=True, track_running_stats=True)\n",
              "            (2): SiLU(inplace=True)\n",
              "          )\n",
              "          (1): Conv2dNormActivation(\n",
              "            (0): Conv2d(1152, 1152, kernel_size=(5, 5), stride=(1, 1), padding=(2, 2), groups=1152, bias=False)\n",
              "            (1): BatchNorm2d(1152, eps=1e-05, momentum=0.1, affine=True, track_running_stats=True)\n",
              "            (2): SiLU(inplace=True)\n",
              "          )\n",
              "          (2): SqueezeExcitation(\n",
              "            (avgpool): AdaptiveAvgPool2d(output_size=1)\n",
              "            (fc1): Conv2d(1152, 48, kernel_size=(1, 1), stride=(1, 1))\n",
              "            (fc2): Conv2d(48, 1152, kernel_size=(1, 1), stride=(1, 1))\n",
              "            (activation): SiLU(inplace=True)\n",
              "            (scale_activation): Sigmoid()\n",
              "          )\n",
              "          (3): Conv2dNormActivation(\n",
              "            (0): Conv2d(1152, 192, kernel_size=(1, 1), stride=(1, 1), bias=False)\n",
              "            (1): BatchNorm2d(192, eps=1e-05, momentum=0.1, affine=True, track_running_stats=True)\n",
              "          )\n",
              "        )\n",
              "        (stochastic_depth): StochasticDepth(p=0.15000000000000002, mode=row)\n",
              "      )\n",
              "      (2): MBConv(\n",
              "        (block): Sequential(\n",
              "          (0): Conv2dNormActivation(\n",
              "            (0): Conv2d(192, 1152, kernel_size=(1, 1), stride=(1, 1), bias=False)\n",
              "            (1): BatchNorm2d(1152, eps=1e-05, momentum=0.1, affine=True, track_running_stats=True)\n",
              "            (2): SiLU(inplace=True)\n",
              "          )\n",
              "          (1): Conv2dNormActivation(\n",
              "            (0): Conv2d(1152, 1152, kernel_size=(5, 5), stride=(1, 1), padding=(2, 2), groups=1152, bias=False)\n",
              "            (1): BatchNorm2d(1152, eps=1e-05, momentum=0.1, affine=True, track_running_stats=True)\n",
              "            (2): SiLU(inplace=True)\n",
              "          )\n",
              "          (2): SqueezeExcitation(\n",
              "            (avgpool): AdaptiveAvgPool2d(output_size=1)\n",
              "            (fc1): Conv2d(1152, 48, kernel_size=(1, 1), stride=(1, 1))\n",
              "            (fc2): Conv2d(48, 1152, kernel_size=(1, 1), stride=(1, 1))\n",
              "            (activation): SiLU(inplace=True)\n",
              "            (scale_activation): Sigmoid()\n",
              "          )\n",
              "          (3): Conv2dNormActivation(\n",
              "            (0): Conv2d(1152, 192, kernel_size=(1, 1), stride=(1, 1), bias=False)\n",
              "            (1): BatchNorm2d(192, eps=1e-05, momentum=0.1, affine=True, track_running_stats=True)\n",
              "          )\n",
              "        )\n",
              "        (stochastic_depth): StochasticDepth(p=0.1625, mode=row)\n",
              "      )\n",
              "      (3): MBConv(\n",
              "        (block): Sequential(\n",
              "          (0): Conv2dNormActivation(\n",
              "            (0): Conv2d(192, 1152, kernel_size=(1, 1), stride=(1, 1), bias=False)\n",
              "            (1): BatchNorm2d(1152, eps=1e-05, momentum=0.1, affine=True, track_running_stats=True)\n",
              "            (2): SiLU(inplace=True)\n",
              "          )\n",
              "          (1): Conv2dNormActivation(\n",
              "            (0): Conv2d(1152, 1152, kernel_size=(5, 5), stride=(1, 1), padding=(2, 2), groups=1152, bias=False)\n",
              "            (1): BatchNorm2d(1152, eps=1e-05, momentum=0.1, affine=True, track_running_stats=True)\n",
              "            (2): SiLU(inplace=True)\n",
              "          )\n",
              "          (2): SqueezeExcitation(\n",
              "            (avgpool): AdaptiveAvgPool2d(output_size=1)\n",
              "            (fc1): Conv2d(1152, 48, kernel_size=(1, 1), stride=(1, 1))\n",
              "            (fc2): Conv2d(48, 1152, kernel_size=(1, 1), stride=(1, 1))\n",
              "            (activation): SiLU(inplace=True)\n",
              "            (scale_activation): Sigmoid()\n",
              "          )\n",
              "          (3): Conv2dNormActivation(\n",
              "            (0): Conv2d(1152, 192, kernel_size=(1, 1), stride=(1, 1), bias=False)\n",
              "            (1): BatchNorm2d(192, eps=1e-05, momentum=0.1, affine=True, track_running_stats=True)\n",
              "          )\n",
              "        )\n",
              "        (stochastic_depth): StochasticDepth(p=0.17500000000000002, mode=row)\n",
              "      )\n",
              "    )\n",
              "    (7): Sequential(\n",
              "      (0): MBConv(\n",
              "        (block): Sequential(\n",
              "          (0): Conv2dNormActivation(\n",
              "            (0): Conv2d(192, 1152, kernel_size=(1, 1), stride=(1, 1), bias=False)\n",
              "            (1): BatchNorm2d(1152, eps=1e-05, momentum=0.1, affine=True, track_running_stats=True)\n",
              "            (2): SiLU(inplace=True)\n",
              "          )\n",
              "          (1): Conv2dNormActivation(\n",
              "            (0): Conv2d(1152, 1152, kernel_size=(3, 3), stride=(1, 1), padding=(1, 1), groups=1152, bias=False)\n",
              "            (1): BatchNorm2d(1152, eps=1e-05, momentum=0.1, affine=True, track_running_stats=True)\n",
              "            (2): SiLU(inplace=True)\n",
              "          )\n",
              "          (2): SqueezeExcitation(\n",
              "            (avgpool): AdaptiveAvgPool2d(output_size=1)\n",
              "            (fc1): Conv2d(1152, 48, kernel_size=(1, 1), stride=(1, 1))\n",
              "            (fc2): Conv2d(48, 1152, kernel_size=(1, 1), stride=(1, 1))\n",
              "            (activation): SiLU(inplace=True)\n",
              "            (scale_activation): Sigmoid()\n",
              "          )\n",
              "          (3): Conv2dNormActivation(\n",
              "            (0): Conv2d(1152, 320, kernel_size=(1, 1), stride=(1, 1), bias=False)\n",
              "            (1): BatchNorm2d(320, eps=1e-05, momentum=0.1, affine=True, track_running_stats=True)\n",
              "          )\n",
              "        )\n",
              "        (stochastic_depth): StochasticDepth(p=0.1875, mode=row)\n",
              "      )\n",
              "    )\n",
              "    (8): Conv2dNormActivation(\n",
              "      (0): Conv2d(320, 1280, kernel_size=(1, 1), stride=(1, 1), bias=False)\n",
              "      (1): BatchNorm2d(1280, eps=1e-05, momentum=0.1, affine=True, track_running_stats=True)\n",
              "      (2): SiLU(inplace=True)\n",
              "    )\n",
              "  )\n",
              "  (avgpool): AdaptiveAvgPool2d(output_size=1)\n",
              "  (classifier): Sequential(\n",
              "    (0): Dropout(p=0.2, inplace=True)\n",
              "    (1): Linear(in_features=1280, out_features=29, bias=True)\n",
              "  )\n",
              ")"
            ]
          },
          "metadata": {},
          "execution_count": 24
        }
      ]
    },
    {
      "cell_type": "code",
      "source": [
        "params_to_update = []\n",
        "for name, param in model.named_parameters():\n",
        "    if param.requires_grad == True:\n",
        "        params_to_update.append(param)\n",
        "\n",
        "        \n",
        "criterion = nn.CrossEntropyLoss()\n",
        "optimizer = torch.optim.Adam(params_to_update, lr=0.001)"
      ],
      "metadata": {
        "id": "_l3UNAyIqiHb"
      },
      "execution_count": 25,
      "outputs": []
    },
    {
      "cell_type": "code",
      "source": [
        "from time import time\n",
        "from tqdm import tqdm\n",
        "\n",
        "num_epochs = 8\n",
        "def train(model,\n",
        "          criterion,\n",
        "          optimizer,\n",
        "          train_dataloader,\n",
        "          test_dataloader,\n",
        "          print_every,\n",
        "          num_epoch):\n",
        "    steps = 0\n",
        "    train_losses, val_losses = [], []\n",
        "\n",
        "    model.to(device)\n",
        "    for epoch in tqdm(range(num_epoch)):\n",
        "        running_loss = 0\n",
        "        correct_train = 0\n",
        "        total_train = 0\n",
        "        start_time = time()\n",
        "        iter_time = time()\n",
        "        model.train()\n",
        "        for i, (images, labels) in enumerate(train_dataloader):\n",
        "            steps += 1\n",
        "            images = images.to(device)\n",
        "            labels = labels.to(device)\n",
        "            output = model(images)\n",
        "            loss = criterion(output, labels)\n",
        "\n",
        "            correct_train += (torch.max(output, dim=1)[1] == labels).sum()\n",
        "            total_train += labels.size(0)\n",
        "            # Backward and optimize\n",
        "            optimizer.zero_grad()\n",
        "            loss.backward()\n",
        "            optimizer.step()\n",
        "\n",
        "            running_loss += loss.item()\n",
        "            if steps % print_every == 0:\n",
        "                print(f'Epoch [{epoch + 1}]/[{num_epoch}]. Batch [{i + 1}]/[{len(train_dataloader)}].', end=' ')\n",
        "                print(f'Train loss {running_loss / steps:.3f}.', end=' ')\n",
        "                print(f'Train acc {correct_train / total_train * 100:.3f}.', end=' ')\n",
        "                with torch.no_grad():\n",
        "                    model.eval()\n",
        "                    correct_val, total_val = 0, 0\n",
        "                    val_loss = 0\n",
        "                    for images, labels in test_dataloader:\n",
        "                        images = images.to(device)\n",
        "                        labels = labels.to(device)\n",
        "                        output = model(images)\n",
        "                        loss = criterion(output, labels)\n",
        "                        val_loss += loss.item()\n",
        "                        correct_val += (torch.max(output, dim=1)[1] == labels).sum()\n",
        "                        total_val += labels.size(0)\n",
        "                    print(f'Val loss {val_loss / len(test_dataloader):.3f}. Val acc {correct_val / total_val * 100:.3f}.', end=' ')\n",
        "                    print(f'Took {time() - iter_time:.3f} seconds')\n",
        "                    iter_time = time()\n",
        "\n",
        "                    train_losses.append(running_loss / total_train)\n",
        "                    val_losses.append(val_loss / total_val)\n",
        "                print(f'Epoch took {time() - start_time}') \n",
        "                torch.save(model, f'checkpoint_{correct_val / total_val * 100:.2f}')\n",
        "    return model, train_losses, val_losses\n",
        "\n",
        "\n",
        "\n",
        "\n"
      ],
      "metadata": {
        "id": "DYP_5qwulaLJ"
      },
      "execution_count": 26,
      "outputs": []
    },
    {
      "cell_type": "code",
      "source": [
        "print_every = 100\n",
        "num_epoch = 6\n",
        "\n",
        "model, train_losses, val_losses = train(\n",
        "    model=model,\n",
        "    criterion=criterion,\n",
        "    optimizer=optimizer,\n",
        "    train_dataloader=train_dataloader,\n",
        "    test_dataloader=val_dataloader,\n",
        "    print_every=print_every,\n",
        "    num_epoch=num_epoch\n",
        ")"
      ],
      "metadata": {
        "id": "jOLT83Gllasp",
        "colab": {
          "base_uri": "https://localhost:8080/"
        },
        "outputId": "92020a80-2c75-4d74-eef1-878aa3fd179e"
      },
      "execution_count": 27,
      "outputs": [
        {
          "metadata": {
            "tags": null
          },
          "name": "stderr",
          "output_type": "stream",
          "text": [
            "\r  0%|          | 0/6 [00:00<?, ?it/s]"
          ]
        },
        {
          "metadata": {
            "tags": null
          },
          "name": "stdout",
          "output_type": "stream",
          "text": [
            "Epoch [1]/[6]. Batch [100]/[1020]. Train loss 2.370. Train acc 47.234. Val loss 1.516. Val acc 70.993. Took 54.421 seconds\n",
            "Epoch took 54.421767473220825\n",
            "Epoch [1]/[6]. Batch [200]/[1020]. Train loss 1.777. Train acc 62.445. Val loss 0.972. Val acc 81.324. Took 43.824 seconds\n",
            "Epoch took 98.24546837806702\n",
            "Epoch [1]/[6]. Batch [300]/[1020]. Train loss 1.469. Train acc 69.354. Val loss 0.732. Val acc 86.092. Took 45.033 seconds\n",
            "Epoch took 143.27835845947266\n",
            "Epoch [1]/[6]. Batch [400]/[1020]. Train loss 1.266. Train acc 73.828. Val loss 0.600. Val acc 88.377. Took 43.675 seconds\n",
            "Epoch took 186.95318818092346\n",
            "Epoch [1]/[6]. Batch [500]/[1020]. Train loss 1.124. Train acc 76.888. Val loss 0.512. Val acc 89.871. Took 44.036 seconds\n",
            "Epoch took 230.98911237716675\n",
            "Epoch [1]/[6]. Batch [600]/[1020]. Train loss 1.016. Train acc 79.169. Val loss 0.451. Val acc 90.763. Took 42.935 seconds\n",
            "Epoch took 273.92431569099426\n",
            "Epoch [1]/[6]. Batch [700]/[1020]. Train loss 0.936. Train acc 80.786. Val loss 0.401. Val acc 92.018. Took 43.723 seconds\n",
            "Epoch took 317.647563457489\n",
            "Epoch [1]/[6]. Batch [800]/[1020]. Train loss 0.870. Train acc 82.137. Val loss 0.360. Val acc 92.754. Took 43.282 seconds\n",
            "Epoch took 360.92934584617615\n",
            "Epoch [1]/[6]. Batch [900]/[1020]. Train loss 0.814. Train acc 83.260. Val loss 0.329. Val acc 93.430. Took 44.217 seconds\n",
            "Epoch took 405.1466770172119\n",
            "Epoch [1]/[6]. Batch [1000]/[1020]. Train loss 0.764. Train acc 84.298. Val loss 0.308. Val acc 93.632. Took 43.261 seconds\n",
            "Epoch took 448.4080271720886\n"
          ]
        },
        {
          "metadata": {
            "tags": null
          },
          "name": "stderr",
          "output_type": "stream",
          "text": [
            "\r 17%|█▋        | 1/6 [07:30<37:30, 450.17s/it]"
          ]
        },
        {
          "metadata": {
            "tags": null
          },
          "name": "stdout",
          "output_type": "stream",
          "text": [
            "Epoch [2]/[6]. Batch [80]/[1020]. Train loss 0.043. Train acc 84.668. Val loss 0.300. Val acc 93.457. Took 42.129 seconds\n",
            "Epoch took 42.12867760658264\n",
            "Epoch [2]/[6]. Batch [180]/[1020]. Train loss 0.062. Train acc 89.983. Val loss 0.275. Val acc 94.179. Took 43.453 seconds\n",
            "Epoch took 85.58313179016113\n",
            "Epoch [2]/[6]. Batch [280]/[1020]. Train loss 0.078. Train acc 91.423. Val loss 0.260. Val acc 94.460. Took 44.249 seconds\n",
            "Epoch took 129.83208751678467\n",
            "Epoch [2]/[6]. Batch [380]/[1020]. Train loss 0.091. Train acc 92.303. Val loss 0.247. Val acc 94.644. Took 43.079 seconds\n",
            "Epoch took 172.91108393669128\n",
            "Epoch [2]/[6]. Batch [480]/[1020]. Train loss 0.101. Train acc 92.819. Val loss 0.235. Val acc 94.772. Took 43.160 seconds\n",
            "Epoch took 216.07235431671143\n",
            "Epoch [2]/[6]. Batch [580]/[1020]. Train loss 0.109. Train acc 93.252. Val loss 0.225. Val acc 94.993. Took 43.372 seconds\n",
            "Epoch took 259.44433784484863\n",
            "Epoch [2]/[6]. Batch [680]/[1020]. Train loss 0.116. Train acc 93.527. Val loss 0.213. Val acc 95.356. Took 43.118 seconds\n",
            "Epoch took 302.5619463920593\n",
            "Epoch [2]/[6]. Batch [780]/[1020]. Train loss 0.121. Train acc 93.748. Val loss 0.204. Val acc 95.577. Took 43.043 seconds\n",
            "Epoch took 345.6050786972046\n",
            "Epoch [2]/[6]. Batch [880]/[1020]. Train loss 0.125. Train acc 94.023. Val loss 0.194. Val acc 95.871. Took 43.232 seconds\n",
            "Epoch took 388.8371648788452\n",
            "Epoch [2]/[6]. Batch [980]/[1020]. Train loss 0.129. Train acc 94.173. Val loss 0.190. Val acc 95.775. Took 43.871 seconds\n",
            "Epoch took 432.70792841911316\n"
          ]
        },
        {
          "metadata": {
            "tags": null
          },
          "name": "stderr",
          "output_type": "stream",
          "text": [
            "\r 33%|███▎      | 2/6 [14:46<29:28, 442.13s/it]"
          ]
        },
        {
          "metadata": {
            "tags": null
          },
          "name": "stdout",
          "output_type": "stream",
          "text": [
            "Epoch [3]/[6]. Batch [60]/[1020]. Train loss 0.013. Train acc 85.964. Val loss 0.199. Val acc 95.379. Took 40.231 seconds\n",
            "Epoch took 40.23129200935364\n",
            "Epoch [3]/[6]. Batch [160]/[1020]. Train loss 0.021. Train acc 92.383. Val loss 0.186. Val acc 95.812. Took 43.443 seconds\n",
            "Epoch took 83.67416882514954\n",
            "Epoch [3]/[6]. Batch [260]/[1020]. Train loss 0.027. Train acc 94.069. Val loss 0.179. Val acc 96.023. Took 44.029 seconds\n",
            "Epoch took 127.70293045043945\n",
            "Epoch [3]/[6]. Batch [360]/[1020]. Train loss 0.033. Train acc 94.661. Val loss 0.175. Val acc 95.968. Took 44.114 seconds\n",
            "Epoch took 171.81744647026062\n",
            "Epoch [3]/[6]. Batch [460]/[1020]. Train loss 0.038. Train acc 95.082. Val loss 0.168. Val acc 96.221. Took 42.982 seconds\n",
            "Epoch took 214.79926252365112\n",
            "Epoch [3]/[6]. Batch [560]/[1020]. Train loss 0.043. Train acc 95.366. Val loss 0.163. Val acc 96.267. Took 43.830 seconds\n",
            "Epoch took 258.6289646625519\n",
            "Epoch [3]/[6]. Batch [660]/[1020]. Train loss 0.047. Train acc 95.549. Val loss 0.159. Val acc 96.331. Took 43.207 seconds\n",
            "Epoch took 301.83699321746826\n",
            "Epoch [3]/[6]. Batch [760]/[1020]. Train loss 0.051. Train acc 95.703. Val loss 0.154. Val acc 96.428. Took 43.438 seconds\n",
            "Epoch took 345.27523970603943\n",
            "Epoch [3]/[6]. Batch [860]/[1020]. Train loss 0.054. Train acc 95.885. Val loss 0.151. Val acc 96.478. Took 43.055 seconds\n",
            "Epoch took 388.33031606674194\n",
            "Epoch [3]/[6]. Batch [960]/[1020]. Train loss 0.057. Train acc 96.011. Val loss 0.147. Val acc 96.570. Took 43.897 seconds\n",
            "Epoch took 432.22747588157654\n"
          ]
        },
        {
          "metadata": {
            "tags": null
          },
          "name": "stderr",
          "output_type": "stream",
          "text": [
            "\r 50%|█████     | 3/6 [22:04<22:00, 440.25s/it]"
          ]
        },
        {
          "metadata": {
            "tags": null
          },
          "name": "stdout",
          "output_type": "stream",
          "text": [
            "Epoch [4]/[6]. Batch [40]/[1020]. Train loss 0.006. Train acc 86.562. Val loss 0.152. Val acc 96.193. Took 38.642 seconds\n",
            "Epoch took 38.64171123504639\n",
            "Epoch [4]/[6]. Batch [140]/[1020]. Train loss 0.009. Train acc 94.330. Val loss 0.144. Val acc 96.359. Took 44.357 seconds\n",
            "Epoch took 82.99889492988586\n",
            "Epoch [4]/[6]. Batch [240]/[1020]. Train loss 0.013. Train acc 95.625. Val loss 0.140. Val acc 96.487. Took 43.473 seconds\n",
            "Epoch took 126.47239923477173\n",
            "Epoch [4]/[6]. Batch [340]/[1020]. Train loss 0.016. Train acc 96.057. Val loss 0.138. Val acc 96.533. Took 44.062 seconds\n",
            "Epoch took 170.53460478782654\n",
            "Epoch [4]/[6]. Batch [440]/[1020]. Train loss 0.019. Train acc 96.388. Val loss 0.132. Val acc 96.731. Took 43.859 seconds\n",
            "Epoch took 214.39368891716003\n",
            "Epoch [4]/[6]. Batch [540]/[1020]. Train loss 0.022. Train acc 96.554. Val loss 0.129. Val acc 96.887. Took 43.598 seconds\n",
            "Epoch took 257.99221754074097\n",
            "Epoch [4]/[6]. Batch [640]/[1020]. Train loss 0.025. Train acc 96.697. Val loss 0.130. Val acc 96.749. Took 43.888 seconds\n",
            "Epoch took 301.8799662590027\n",
            "Epoch [4]/[6]. Batch [740]/[1020]. Train loss 0.027. Train acc 96.816. Val loss 0.125. Val acc 96.887. Took 43.604 seconds\n",
            "Epoch took 345.4836542606354\n",
            "Epoch [4]/[6]. Batch [840]/[1020]. Train loss 0.029. Train acc 96.853. Val loss 0.122. Val acc 96.943. Took 42.809 seconds\n",
            "Epoch took 388.29302048683167\n",
            "Epoch [4]/[6]. Batch [940]/[1020]. Train loss 0.032. Train acc 96.878. Val loss 0.120. Val acc 97.122. Took 43.213 seconds\n",
            "Epoch took 431.5064055919647\n"
          ]
        },
        {
          "metadata": {
            "tags": null
          },
          "name": "stderr",
          "output_type": "stream",
          "text": [
            "\r 67%|██████▋   | 4/6 [29:24<14:39, 439.89s/it]"
          ]
        },
        {
          "metadata": {
            "tags": null
          },
          "name": "stdout",
          "output_type": "stream",
          "text": [
            "Epoch [5]/[6]. Batch [20]/[1020]. Train loss 0.002. Train acc 87.422. Val loss 0.121. Val acc 96.920. Took 35.361 seconds\n",
            "Epoch took 35.3614182472229\n",
            "Epoch [5]/[6]. Batch [120]/[1020]. Train loss 0.004. Train acc 96.185. Val loss 0.116. Val acc 97.034. Took 43.248 seconds\n",
            "Epoch took 78.60943055152893\n",
            "Epoch [5]/[6]. Batch [220]/[1020]. Train loss 0.007. Train acc 96.946. Val loss 0.115. Val acc 97.044. Took 43.569 seconds\n",
            "Epoch took 122.1781816482544\n",
            "Epoch [5]/[6]. Batch [320]/[1020]. Train loss 0.009. Train acc 97.271. Val loss 0.114. Val acc 97.007. Took 42.968 seconds\n",
            "Epoch took 165.1462857723236\n",
            "Epoch [5]/[6]. Batch [420]/[1020]. Train loss 0.011. Train acc 97.437. Val loss 0.111. Val acc 97.094. Took 42.854 seconds\n",
            "Epoch took 208.00020480155945\n",
            "Epoch [5]/[6]. Batch [520]/[1020]. Train loss 0.013. Train acc 97.485. Val loss 0.109. Val acc 97.264. Took 42.711 seconds\n",
            "Epoch took 250.71134543418884\n",
            "Epoch [5]/[6]. Batch [620]/[1020]. Train loss 0.014. Train acc 97.535. Val loss 0.108. Val acc 97.306. Took 43.210 seconds\n",
            "Epoch took 293.9212341308594\n",
            "Epoch [5]/[6]. Batch [720]/[1020]. Train loss 0.016. Train acc 97.578. Val loss 0.107. Val acc 97.274. Took 43.658 seconds\n",
            "Epoch took 337.5791265964508\n",
            "Epoch [5]/[6]. Batch [820]/[1020]. Train loss 0.017. Train acc 97.633. Val loss 0.105. Val acc 97.306. Took 43.410 seconds\n",
            "Epoch took 380.9886932373047\n",
            "Epoch [5]/[6]. Batch [920]/[1020]. Train loss 0.019. Train acc 97.631. Val loss 0.103. Val acc 97.315. Took 43.524 seconds\n",
            "Epoch took 424.5129382610321\n",
            "Epoch [5]/[6]. Batch [1020]/[1020]. Train loss 0.021. Train acc 97.655. "
          ]
        },
        {
          "metadata": {
            "tags": null
          },
          "name": "stderr",
          "output_type": "stream",
          "text": [
            "\r 83%|████████▎ | 5/6 [37:11<07:29, 449.81s/it]"
          ]
        },
        {
          "output_type": "stream",
          "name": "stdout",
          "text": [
            "Val loss 0.102. Val acc 97.274. Took 42.757 seconds\n",
            "Epoch took 467.2701258659363\n",
            "Epoch [6]/[6]. Batch [100]/[1020]. Train loss 0.008. Train acc 87.250. Val loss 0.115. Val acc 96.657. Took 44.095 seconds\n",
            "Epoch took 44.09520983695984\n",
            "Epoch [6]/[6]. Batch [200]/[1020]. Train loss 0.009. Train acc 92.711. Val loss 0.103. Val acc 97.182. Took 43.299 seconds\n",
            "Epoch took 87.39463067054749\n",
            "Epoch [6]/[6]. Batch [300]/[1020]. Train loss 0.011. Train acc 94.469. Val loss 0.099. Val acc 97.260. Took 42.897 seconds\n",
            "Epoch took 130.29296398162842\n",
            "Epoch [6]/[6]. Batch [400]/[1020]. Train loss 0.012. Train acc 95.422. Val loss 0.098. Val acc 97.343. Took 42.636 seconds\n",
            "Epoch took 172.9299259185791\n",
            "Epoch [6]/[6]. Batch [500]/[1020]. Train loss 0.013. Train acc 95.963. Val loss 0.097. Val acc 97.416. Took 43.245 seconds\n",
            "Epoch took 216.1746940612793\n",
            "Epoch [6]/[6]. Batch [600]/[1020]. Train loss 0.014. Train acc 96.357. Val loss 0.095. Val acc 97.467. Took 43.557 seconds\n",
            "Epoch took 259.73135447502136\n",
            "Epoch [6]/[6]. Batch [700]/[1020]. Train loss 0.015. Train acc 96.621. Val loss 0.095. Val acc 97.398. Took 42.659 seconds\n",
            "Epoch took 302.39037013053894\n",
            "Epoch [6]/[6]. Batch [800]/[1020]. Train loss 0.017. Train acc 96.793. Val loss 0.093. Val acc 97.499. Took 43.011 seconds\n",
            "Epoch took 345.4010052680969\n",
            "Epoch [6]/[6]. Batch [900]/[1020]. Train loss 0.018. Train acc 96.943. Val loss 0.092. Val acc 97.522. Took 43.243 seconds\n",
            "Epoch took 388.6438298225403\n",
            "Epoch [6]/[6]. Batch [1000]/[1020]. Train loss 0.019. Train acc 97.111. Val loss 0.091. Val acc 97.618. Took 42.961 seconds\n",
            "Epoch took 431.60498881340027\n"
          ]
        },
        {
          "output_type": "stream",
          "name": "stderr",
          "text": [
            "100%|██████████| 6/6 [44:24<00:00, 444.13s/it]\n"
          ]
        }
      ]
    },
    {
      "cell_type": "code",
      "source": [
        "plt.plot(train_losses, label='Training loss')\n",
        "plt.plot(val_losses, label='Validation loss')\n",
        "plt.legend(frameon=False)\n",
        "plt.show()"
      ],
      "metadata": {
        "id": "-ogZBE9flau3",
        "colab": {
          "base_uri": "https://localhost:8080/",
          "height": 265
        },
        "outputId": "c23c3b2c-150e-479b-8e9a-c75f84b740c4"
      },
      "execution_count": 28,
      "outputs": [
        {
          "output_type": "display_data",
          "data": {
            "text/plain": [
              "<Figure size 432x288 with 1 Axes>"
            ],
            "image/png": "[encoded data removed]"
          },
          "metadata": {
            "needs_background": "light"
          }
        }
      ]
    },
    {
      "cell_type": "code",
      "source": [],
      "metadata": {
        "id": "xhECiHH1la3d"
      },
      "execution_count": 28,
      "outputs": []
    }
  ]
}